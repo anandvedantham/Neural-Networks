{
 "cells": [
  {
   "cell_type": "markdown",
   "id": "9e98f750",
   "metadata": {},
   "source": [
    "Problem statement: predicting turbine energy yield (TEY) using ambient variables as features.\n",
    "\n",
    "    The dataset contains 36733 instances of 11 sensor measures aggregated over one hour (by means of average or sum) from a gas turbine. The Dataset includes gas turbine parameters (such as Turbine Inlet Temperature and Compressor Discharge pressure) in addition to the ambient variables.\n",
    "\n",
    "    Attribute Information:\n",
    "    The explanations of sensor measurements and their brief statistics are given below.\n",
    "    \n",
    "    Variable (Abbr.) Unit Min Max Mean\n",
    "    Ambient temperature (AT) C â€“6.23 37.10 17.71\n",
    "    Ambient pressure (AP) mbar 985.85 1036.56 1013.07\n",
    "    Ambient humidity (AH) (%) 24.08 100.20 77.87\n",
    "    Air filter difference pressure (AFDP) mbar 2.09 7.61 3.93\n",
    "    Gas turbine exhaust pressure (GTEP) mbar 17.70 40.72 25.56\n",
    "    Turbine inlet temperature (TIT) C 1000.85 1100.89 1081.43\n",
    "    Turbine after temperature (TAT) C 511.04 550.61 546.16\n",
    "    Compressor discharge pressure (CDP) mbar 9.85 15.16 12.06\n",
    "    Turbine energy yield (TEY) MWH 100.02 179.50 133.51\n",
    "    Carbon monoxide (CO) mg/m3 0.00 44.10 2.37\n",
    "    Nitrogen oxides (NOx) mg/m3 25.90 119.91 65.29"
   ]
  },
  {
   "cell_type": "raw",
   "id": "9d3ed5c7",
   "metadata": {
    "ExecuteTime": {
     "end_time": "2023-08-17T12:02:28.710378Z",
     "start_time": "2023-08-17T12:01:56.436438Z"
    }
   },
   "source": [
    "# Installing the libraries before importing them\n",
    "!pip install tensorflow\n",
    "!pip install keras  (# no need if already installed through tensorflow)\n",
    "!pip install tensorflow scikeras scikit-learn\n",
    "!pip install keras-tuner"
   ]
  },
  {
   "cell_type": "markdown",
   "id": "c3c2334a",
   "metadata": {},
   "source": [
    "### Importing the required Libraries"
   ]
  },
  {
   "cell_type": "code",
   "execution_count": 1,
   "id": "ac296b22",
   "metadata": {
    "ExecuteTime": {
     "end_time": "2023-08-21T13:14:32.968377Z",
     "start_time": "2023-08-21T13:14:29.581282Z"
    }
   },
   "outputs": [],
   "source": [
    "import pandas as pd, numpy as np\n",
    "import matplotlib.pyplot as plt, seaborn as sns\n",
    "\n",
    "from numpy import set_printoptions\n",
    "from sklearn.preprocessing import StandardScaler\n",
    "from sklearn.model_selection import train_test_split\n",
    "from sklearn.metrics import accuracy_score, confusion_matrix\n",
    "from sklearn.model_selection import GridSearchCV, KFold\n",
    "\n",
    "from keras.models import Sequential\n",
    "from keras.layers import Dense, Dropout\n",
    "from scikeras.wrappers import KerasClassifier, KerasRegressor\n",
    "from tensorflow.keras.optimizers import Adam\n",
    "from tensorflow.keras.layers import BatchNormalization\n",
    "\n",
    "# importing warnings\n",
    "import warnings\n",
    "warnings.filterwarnings(\"ignore\")"
   ]
  },
  {
   "cell_type": "markdown",
   "id": "faf67441",
   "metadata": {},
   "source": [
    "#### Reading the dataset"
   ]
  },
  {
   "cell_type": "code",
   "execution_count": 2,
   "id": "ed4d403f",
   "metadata": {
    "ExecuteTime": {
     "end_time": "2023-08-21T13:14:34.854944Z",
     "start_time": "2023-08-21T13:14:34.812126Z"
    }
   },
   "outputs": [
    {
     "data": {
      "text/html": [
       "<div>\n",
       "<style scoped>\n",
       "    .dataframe tbody tr th:only-of-type {\n",
       "        vertical-align: middle;\n",
       "    }\n",
       "\n",
       "    .dataframe tbody tr th {\n",
       "        vertical-align: top;\n",
       "    }\n",
       "\n",
       "    .dataframe thead th {\n",
       "        text-align: right;\n",
       "    }\n",
       "</style>\n",
       "<table border=\"1\" class=\"dataframe\">\n",
       "  <thead>\n",
       "    <tr style=\"text-align: right;\">\n",
       "      <th></th>\n",
       "      <th>AT</th>\n",
       "      <th>AP</th>\n",
       "      <th>AH</th>\n",
       "      <th>AFDP</th>\n",
       "      <th>GTEP</th>\n",
       "      <th>TIT</th>\n",
       "      <th>TAT</th>\n",
       "      <th>TEY</th>\n",
       "      <th>CDP</th>\n",
       "      <th>CO</th>\n",
       "      <th>NOX</th>\n",
       "    </tr>\n",
       "  </thead>\n",
       "  <tbody>\n",
       "    <tr>\n",
       "      <th>0</th>\n",
       "      <td>6.8594</td>\n",
       "      <td>1007.9</td>\n",
       "      <td>96.799</td>\n",
       "      <td>3.5000</td>\n",
       "      <td>19.663</td>\n",
       "      <td>1059.2</td>\n",
       "      <td>550.00</td>\n",
       "      <td>114.70</td>\n",
       "      <td>10.605</td>\n",
       "      <td>3.1547</td>\n",
       "      <td>82.722</td>\n",
       "    </tr>\n",
       "    <tr>\n",
       "      <th>1</th>\n",
       "      <td>6.7850</td>\n",
       "      <td>1008.4</td>\n",
       "      <td>97.118</td>\n",
       "      <td>3.4998</td>\n",
       "      <td>19.728</td>\n",
       "      <td>1059.3</td>\n",
       "      <td>550.00</td>\n",
       "      <td>114.72</td>\n",
       "      <td>10.598</td>\n",
       "      <td>3.2363</td>\n",
       "      <td>82.776</td>\n",
       "    </tr>\n",
       "    <tr>\n",
       "      <th>2</th>\n",
       "      <td>6.8977</td>\n",
       "      <td>1008.8</td>\n",
       "      <td>95.939</td>\n",
       "      <td>3.4824</td>\n",
       "      <td>19.779</td>\n",
       "      <td>1059.4</td>\n",
       "      <td>549.87</td>\n",
       "      <td>114.71</td>\n",
       "      <td>10.601</td>\n",
       "      <td>3.2012</td>\n",
       "      <td>82.468</td>\n",
       "    </tr>\n",
       "    <tr>\n",
       "      <th>3</th>\n",
       "      <td>7.0569</td>\n",
       "      <td>1009.2</td>\n",
       "      <td>95.249</td>\n",
       "      <td>3.4805</td>\n",
       "      <td>19.792</td>\n",
       "      <td>1059.6</td>\n",
       "      <td>549.99</td>\n",
       "      <td>114.72</td>\n",
       "      <td>10.606</td>\n",
       "      <td>3.1923</td>\n",
       "      <td>82.670</td>\n",
       "    </tr>\n",
       "    <tr>\n",
       "      <th>4</th>\n",
       "      <td>7.3978</td>\n",
       "      <td>1009.7</td>\n",
       "      <td>95.150</td>\n",
       "      <td>3.4976</td>\n",
       "      <td>19.765</td>\n",
       "      <td>1059.7</td>\n",
       "      <td>549.98</td>\n",
       "      <td>114.72</td>\n",
       "      <td>10.612</td>\n",
       "      <td>3.2484</td>\n",
       "      <td>82.311</td>\n",
       "    </tr>\n",
       "    <tr>\n",
       "      <th>...</th>\n",
       "      <td>...</td>\n",
       "      <td>...</td>\n",
       "      <td>...</td>\n",
       "      <td>...</td>\n",
       "      <td>...</td>\n",
       "      <td>...</td>\n",
       "      <td>...</td>\n",
       "      <td>...</td>\n",
       "      <td>...</td>\n",
       "      <td>...</td>\n",
       "      <td>...</td>\n",
       "    </tr>\n",
       "    <tr>\n",
       "      <th>15034</th>\n",
       "      <td>9.0301</td>\n",
       "      <td>1005.6</td>\n",
       "      <td>98.460</td>\n",
       "      <td>3.5421</td>\n",
       "      <td>19.164</td>\n",
       "      <td>1049.7</td>\n",
       "      <td>546.21</td>\n",
       "      <td>111.61</td>\n",
       "      <td>10.400</td>\n",
       "      <td>4.5186</td>\n",
       "      <td>79.559</td>\n",
       "    </tr>\n",
       "    <tr>\n",
       "      <th>15035</th>\n",
       "      <td>7.8879</td>\n",
       "      <td>1005.9</td>\n",
       "      <td>99.093</td>\n",
       "      <td>3.5059</td>\n",
       "      <td>19.414</td>\n",
       "      <td>1046.3</td>\n",
       "      <td>543.22</td>\n",
       "      <td>111.78</td>\n",
       "      <td>10.433</td>\n",
       "      <td>4.8470</td>\n",
       "      <td>79.917</td>\n",
       "    </tr>\n",
       "    <tr>\n",
       "      <th>15036</th>\n",
       "      <td>7.2647</td>\n",
       "      <td>1006.3</td>\n",
       "      <td>99.496</td>\n",
       "      <td>3.4770</td>\n",
       "      <td>19.530</td>\n",
       "      <td>1037.7</td>\n",
       "      <td>537.32</td>\n",
       "      <td>110.19</td>\n",
       "      <td>10.483</td>\n",
       "      <td>7.9632</td>\n",
       "      <td>90.912</td>\n",
       "    </tr>\n",
       "    <tr>\n",
       "      <th>15037</th>\n",
       "      <td>7.0060</td>\n",
       "      <td>1006.8</td>\n",
       "      <td>99.008</td>\n",
       "      <td>3.4486</td>\n",
       "      <td>19.377</td>\n",
       "      <td>1043.2</td>\n",
       "      <td>541.24</td>\n",
       "      <td>110.74</td>\n",
       "      <td>10.533</td>\n",
       "      <td>6.2494</td>\n",
       "      <td>93.227</td>\n",
       "    </tr>\n",
       "    <tr>\n",
       "      <th>15038</th>\n",
       "      <td>6.9279</td>\n",
       "      <td>1007.2</td>\n",
       "      <td>97.533</td>\n",
       "      <td>3.4275</td>\n",
       "      <td>19.306</td>\n",
       "      <td>1049.9</td>\n",
       "      <td>545.85</td>\n",
       "      <td>111.58</td>\n",
       "      <td>10.583</td>\n",
       "      <td>4.9816</td>\n",
       "      <td>92.498</td>\n",
       "    </tr>\n",
       "  </tbody>\n",
       "</table>\n",
       "<p>15039 rows × 11 columns</p>\n",
       "</div>"
      ],
      "text/plain": [
       "           AT      AP      AH    AFDP    GTEP     TIT     TAT     TEY     CDP  \\\n",
       "0      6.8594  1007.9  96.799  3.5000  19.663  1059.2  550.00  114.70  10.605   \n",
       "1      6.7850  1008.4  97.118  3.4998  19.728  1059.3  550.00  114.72  10.598   \n",
       "2      6.8977  1008.8  95.939  3.4824  19.779  1059.4  549.87  114.71  10.601   \n",
       "3      7.0569  1009.2  95.249  3.4805  19.792  1059.6  549.99  114.72  10.606   \n",
       "4      7.3978  1009.7  95.150  3.4976  19.765  1059.7  549.98  114.72  10.612   \n",
       "...       ...     ...     ...     ...     ...     ...     ...     ...     ...   \n",
       "15034  9.0301  1005.6  98.460  3.5421  19.164  1049.7  546.21  111.61  10.400   \n",
       "15035  7.8879  1005.9  99.093  3.5059  19.414  1046.3  543.22  111.78  10.433   \n",
       "15036  7.2647  1006.3  99.496  3.4770  19.530  1037.7  537.32  110.19  10.483   \n",
       "15037  7.0060  1006.8  99.008  3.4486  19.377  1043.2  541.24  110.74  10.533   \n",
       "15038  6.9279  1007.2  97.533  3.4275  19.306  1049.9  545.85  111.58  10.583   \n",
       "\n",
       "           CO     NOX  \n",
       "0      3.1547  82.722  \n",
       "1      3.2363  82.776  \n",
       "2      3.2012  82.468  \n",
       "3      3.1923  82.670  \n",
       "4      3.2484  82.311  \n",
       "...       ...     ...  \n",
       "15034  4.5186  79.559  \n",
       "15035  4.8470  79.917  \n",
       "15036  7.9632  90.912  \n",
       "15037  6.2494  93.227  \n",
       "15038  4.9816  92.498  \n",
       "\n",
       "[15039 rows x 11 columns]"
      ]
     },
     "execution_count": 2,
     "metadata": {},
     "output_type": "execute_result"
    }
   ],
   "source": [
    "# Reading the dataset\n",
    "gas = pd.read_csv(\"gas_turbines.csv\")\n",
    "gas"
   ]
  },
  {
   "cell_type": "markdown",
   "id": "73310f10",
   "metadata": {},
   "source": [
    "### Performing EDA on the dataset"
   ]
  },
  {
   "cell_type": "code",
   "execution_count": 3,
   "id": "28d8e527",
   "metadata": {
    "ExecuteTime": {
     "end_time": "2023-08-21T13:14:36.766217Z",
     "start_time": "2023-08-21T13:14:36.748119Z"
    }
   },
   "outputs": [
    {
     "name": "stdout",
     "output_type": "stream",
     "text": [
      "<class 'pandas.core.frame.DataFrame'>\n",
      "RangeIndex: 15039 entries, 0 to 15038\n",
      "Data columns (total 11 columns):\n",
      " #   Column  Non-Null Count  Dtype  \n",
      "---  ------  --------------  -----  \n",
      " 0   AT      15039 non-null  float64\n",
      " 1   AP      15039 non-null  float64\n",
      " 2   AH      15039 non-null  float64\n",
      " 3   AFDP    15039 non-null  float64\n",
      " 4   GTEP    15039 non-null  float64\n",
      " 5   TIT     15039 non-null  float64\n",
      " 6   TAT     15039 non-null  float64\n",
      " 7   TEY     15039 non-null  float64\n",
      " 8   CDP     15039 non-null  float64\n",
      " 9   CO      15039 non-null  float64\n",
      " 10  NOX     15039 non-null  float64\n",
      "dtypes: float64(11)\n",
      "memory usage: 1.3 MB\n"
     ]
    }
   ],
   "source": [
    "# to get the information of the datafile\n",
    "gas.info()"
   ]
  },
  {
   "cell_type": "code",
   "execution_count": 4,
   "id": "0d9b2b98",
   "metadata": {
    "ExecuteTime": {
     "end_time": "2023-08-21T13:14:37.962138Z",
     "start_time": "2023-08-21T13:14:37.941903Z"
    }
   },
   "outputs": [
    {
     "data": {
      "text/plain": [
       "AT      0\n",
       "AP      0\n",
       "AH      0\n",
       "AFDP    0\n",
       "GTEP    0\n",
       "TIT     0\n",
       "TAT     0\n",
       "TEY     0\n",
       "CDP     0\n",
       "CO      0\n",
       "NOX     0\n",
       "dtype: int64"
      ]
     },
     "execution_count": 4,
     "metadata": {},
     "output_type": "execute_result"
    }
   ],
   "source": [
    "# to check the null values of the data\n",
    "gas.isnull().sum()"
   ]
  },
  {
   "cell_type": "code",
   "execution_count": 5,
   "id": "60ffc092",
   "metadata": {
    "ExecuteTime": {
     "end_time": "2023-08-21T13:14:38.979497Z",
     "start_time": "2023-08-21T13:14:38.971808Z"
    },
    "scrolled": true
   },
   "outputs": [
    {
     "name": "stdout",
     "output_type": "stream",
     "text": [
      "Dimensions - (15039, 11)\n",
      "Column names - Index(['AT', 'AP', 'AH', 'AFDP', 'GTEP', 'TIT', 'TAT', 'TEY', 'CDP', 'CO',\n",
      "       'NOX'],\n",
      "      dtype='object')\n"
     ]
    }
   ],
   "source": [
    "print(\"Dimensions -\",gas.shape)\n",
    "print(\"Column names -\",gas.columns)"
   ]
  },
  {
   "cell_type": "code",
   "execution_count": 6,
   "id": "6f92fe28",
   "metadata": {
    "ExecuteTime": {
     "end_time": "2023-08-21T13:15:33.315958Z",
     "start_time": "2023-08-21T13:15:33.299791Z"
    }
   },
   "outputs": [
    {
     "data": {
      "text/plain": [
       "(0, 11)"
      ]
     },
     "execution_count": 6,
     "metadata": {},
     "output_type": "execute_result"
    }
   ],
   "source": [
    "# to check the dimensions of duplicates in the data\n",
    "gas[gas.duplicated()].shape"
   ]
  },
  {
   "cell_type": "markdown",
   "id": "66846e27",
   "metadata": {},
   "source": [
    "#### Checking for Outliers"
   ]
  },
  {
   "cell_type": "code",
   "execution_count": 7,
   "id": "31ebd22b",
   "metadata": {
    "ExecuteTime": {
     "end_time": "2023-08-21T13:15:37.254925Z",
     "start_time": "2023-08-21T13:15:36.652805Z"
    }
   },
   "outputs": [
    {
     "data": {
      "image/png": "[encoded data removed]",
      "text/plain": [
       "<Figure size 864x1008 with 11 Axes>"
      ]
     },
     "metadata": {
      "needs_background": "light"
     },
     "output_type": "display_data"
    }
   ],
   "source": [
    "# checking for the Outliers in the variables if present\n",
    "outlier = gas.copy() \n",
    "fig, axes=plt.subplots(11,1,figsize=(12,14),sharex=False,sharey=False)\n",
    "sns.boxplot(x='AT',data= outlier,palette='crest',ax=axes[0])\n",
    "sns.boxplot(x='AP',data= outlier,palette='crest',ax=axes[1])\n",
    "sns.boxplot(x='AH',data= outlier,palette='crest',ax=axes[2])\n",
    "sns.boxplot(x='AFDP',data= outlier,palette='crest',ax=axes[3])\n",
    "sns.boxplot(x='GTEP',data= outlier,palette='crest',ax=axes[4])\n",
    "sns.boxplot(x='TIT',data= outlier,palette='crest',ax=axes[5])\n",
    "sns.boxplot(x='TAT',data= outlier,palette='crest',ax=axes[6])\n",
    "sns.boxplot(x='TEY',data= outlier,palette='crest',ax=axes[7])\n",
    "sns.boxplot(x='CDP',data= outlier,palette='crest',ax=axes[8])\n",
    "sns.boxplot(x='CO',data= outlier,palette='crest',ax=axes[9])\n",
    "sns.boxplot(x='NOX',data= outlier,palette='crest',ax=axes[10])\n",
    "plt.tight_layout(pad=2.0)"
   ]
  },
  {
   "cell_type": "markdown",
   "id": "70519096",
   "metadata": {},
   "source": [
    "Since there are many outliers in the data, we cannot drop them as they may provide important information."
   ]
  },
  {
   "cell_type": "code",
   "execution_count": 8,
   "id": "f346da0c",
   "metadata": {
    "ExecuteTime": {
     "end_time": "2023-08-21T13:15:39.210591Z",
     "start_time": "2023-08-21T13:15:39.197070Z"
    }
   },
   "outputs": [
    {
     "data": {
      "text/html": [
       "<div>\n",
       "<style scoped>\n",
       "    .dataframe tbody tr th:only-of-type {\n",
       "        vertical-align: middle;\n",
       "    }\n",
       "\n",
       "    .dataframe tbody tr th {\n",
       "        vertical-align: top;\n",
       "    }\n",
       "\n",
       "    .dataframe thead th {\n",
       "        text-align: right;\n",
       "    }\n",
       "</style>\n",
       "<table border=\"1\" class=\"dataframe\">\n",
       "  <thead>\n",
       "    <tr style=\"text-align: right;\">\n",
       "      <th></th>\n",
       "      <th>T_E_Y</th>\n",
       "      <th>AT</th>\n",
       "      <th>AP</th>\n",
       "      <th>AH</th>\n",
       "      <th>AFDP</th>\n",
       "      <th>GTEP</th>\n",
       "      <th>TIT</th>\n",
       "      <th>TAT</th>\n",
       "      <th>CDP</th>\n",
       "      <th>CO</th>\n",
       "      <th>NOX</th>\n",
       "    </tr>\n",
       "  </thead>\n",
       "  <tbody>\n",
       "    <tr>\n",
       "      <th>0</th>\n",
       "      <td>114.70</td>\n",
       "      <td>6.8594</td>\n",
       "      <td>1007.9</td>\n",
       "      <td>96.799</td>\n",
       "      <td>3.5000</td>\n",
       "      <td>19.663</td>\n",
       "      <td>1059.2</td>\n",
       "      <td>550.00</td>\n",
       "      <td>10.605</td>\n",
       "      <td>3.1547</td>\n",
       "      <td>82.722</td>\n",
       "    </tr>\n",
       "    <tr>\n",
       "      <th>1</th>\n",
       "      <td>114.72</td>\n",
       "      <td>6.7850</td>\n",
       "      <td>1008.4</td>\n",
       "      <td>97.118</td>\n",
       "      <td>3.4998</td>\n",
       "      <td>19.728</td>\n",
       "      <td>1059.3</td>\n",
       "      <td>550.00</td>\n",
       "      <td>10.598</td>\n",
       "      <td>3.2363</td>\n",
       "      <td>82.776</td>\n",
       "    </tr>\n",
       "    <tr>\n",
       "      <th>2</th>\n",
       "      <td>114.71</td>\n",
       "      <td>6.8977</td>\n",
       "      <td>1008.8</td>\n",
       "      <td>95.939</td>\n",
       "      <td>3.4824</td>\n",
       "      <td>19.779</td>\n",
       "      <td>1059.4</td>\n",
       "      <td>549.87</td>\n",
       "      <td>10.601</td>\n",
       "      <td>3.2012</td>\n",
       "      <td>82.468</td>\n",
       "    </tr>\n",
       "    <tr>\n",
       "      <th>3</th>\n",
       "      <td>114.72</td>\n",
       "      <td>7.0569</td>\n",
       "      <td>1009.2</td>\n",
       "      <td>95.249</td>\n",
       "      <td>3.4805</td>\n",
       "      <td>19.792</td>\n",
       "      <td>1059.6</td>\n",
       "      <td>549.99</td>\n",
       "      <td>10.606</td>\n",
       "      <td>3.1923</td>\n",
       "      <td>82.670</td>\n",
       "    </tr>\n",
       "    <tr>\n",
       "      <th>4</th>\n",
       "      <td>114.72</td>\n",
       "      <td>7.3978</td>\n",
       "      <td>1009.7</td>\n",
       "      <td>95.150</td>\n",
       "      <td>3.4976</td>\n",
       "      <td>19.765</td>\n",
       "      <td>1059.7</td>\n",
       "      <td>549.98</td>\n",
       "      <td>10.612</td>\n",
       "      <td>3.2484</td>\n",
       "      <td>82.311</td>\n",
       "    </tr>\n",
       "  </tbody>\n",
       "</table>\n",
       "</div>"
      ],
      "text/plain": [
       "    T_E_Y      AT      AP      AH    AFDP    GTEP     TIT     TAT     CDP  \\\n",
       "0  114.70  6.8594  1007.9  96.799  3.5000  19.663  1059.2  550.00  10.605   \n",
       "1  114.72  6.7850  1008.4  97.118  3.4998  19.728  1059.3  550.00  10.598   \n",
       "2  114.71  6.8977  1008.8  95.939  3.4824  19.779  1059.4  549.87  10.601   \n",
       "3  114.72  7.0569  1009.2  95.249  3.4805  19.792  1059.6  549.99  10.606   \n",
       "4  114.72  7.3978  1009.7  95.150  3.4976  19.765  1059.7  549.98  10.612   \n",
       "\n",
       "       CO     NOX  \n",
       "0  3.1547  82.722  \n",
       "1  3.2363  82.776  \n",
       "2  3.2012  82.468  \n",
       "3  3.1923  82.670  \n",
       "4  3.2484  82.311  "
      ]
     },
     "execution_count": 8,
     "metadata": {},
     "output_type": "execute_result"
    }
   ],
   "source": [
    "# to change TEY column as the first column\n",
    "gas1 = gas.copy()\n",
    "gas1.insert(0, 'T_E_Y', gas1.iloc[:,7])\n",
    "gas1 = gas1.drop(gas1.columns[[8]], axis=1)\n",
    "gas1.head()"
   ]
  },
  {
   "cell_type": "markdown",
   "id": "f95fa50a",
   "metadata": {},
   "source": [
    "### Standardization"
   ]
  },
  {
   "cell_type": "code",
   "execution_count": 9,
   "id": "3f43b808",
   "metadata": {
    "ExecuteTime": {
     "end_time": "2023-08-21T13:15:40.842828Z",
     "start_time": "2023-08-21T13:15:40.820974Z"
    },
    "scrolled": true
   },
   "outputs": [
    {
     "data": {
      "text/html": [
       "<div>\n",
       "<style scoped>\n",
       "    .dataframe tbody tr th:only-of-type {\n",
       "        vertical-align: middle;\n",
       "    }\n",
       "\n",
       "    .dataframe tbody tr th {\n",
       "        vertical-align: top;\n",
       "    }\n",
       "\n",
       "    .dataframe thead th {\n",
       "        text-align: right;\n",
       "    }\n",
       "</style>\n",
       "<table border=\"1\" class=\"dataframe\">\n",
       "  <thead>\n",
       "    <tr style=\"text-align: right;\">\n",
       "      <th></th>\n",
       "      <th>T_E_Y</th>\n",
       "      <th>AT</th>\n",
       "      <th>AP</th>\n",
       "      <th>AH</th>\n",
       "      <th>AFDP</th>\n",
       "      <th>GTEP</th>\n",
       "      <th>TIT</th>\n",
       "      <th>TAT</th>\n",
       "      <th>CDP</th>\n",
       "      <th>CO</th>\n",
       "      <th>NOX</th>\n",
       "    </tr>\n",
       "  </thead>\n",
       "  <tbody>\n",
       "    <tr>\n",
       "      <th>0</th>\n",
       "      <td>-1.231172</td>\n",
       "      <td>-1.439778</td>\n",
       "      <td>-0.826644</td>\n",
       "      <td>1.281436</td>\n",
       "      <td>-0.921232</td>\n",
       "      <td>-1.379101</td>\n",
       "      <td>-1.488376</td>\n",
       "      <td>0.585240</td>\n",
       "      <td>-1.357331</td>\n",
       "      <td>0.532012</td>\n",
       "      <td>1.387845</td>\n",
       "    </tr>\n",
       "    <tr>\n",
       "      <th>1</th>\n",
       "      <td>-1.229909</td>\n",
       "      <td>-1.449601</td>\n",
       "      <td>-0.748647</td>\n",
       "      <td>1.304564</td>\n",
       "      <td>-0.921495</td>\n",
       "      <td>-1.363528</td>\n",
       "      <td>-1.482325</td>\n",
       "      <td>0.585240</td>\n",
       "      <td>-1.363676</td>\n",
       "      <td>0.568733</td>\n",
       "      <td>1.393002</td>\n",
       "    </tr>\n",
       "    <tr>\n",
       "      <th>2</th>\n",
       "      <td>-1.230541</td>\n",
       "      <td>-1.434721</td>\n",
       "      <td>-0.686250</td>\n",
       "      <td>1.219086</td>\n",
       "      <td>-0.944385</td>\n",
       "      <td>-1.351309</td>\n",
       "      <td>-1.476275</td>\n",
       "      <td>0.568715</td>\n",
       "      <td>-1.360957</td>\n",
       "      <td>0.552938</td>\n",
       "      <td>1.363586</td>\n",
       "    </tr>\n",
       "    <tr>\n",
       "      <th>3</th>\n",
       "      <td>-1.229909</td>\n",
       "      <td>-1.413702</td>\n",
       "      <td>-0.623853</td>\n",
       "      <td>1.169060</td>\n",
       "      <td>-0.946884</td>\n",
       "      <td>-1.348194</td>\n",
       "      <td>-1.464173</td>\n",
       "      <td>0.583969</td>\n",
       "      <td>-1.356424</td>\n",
       "      <td>0.548933</td>\n",
       "      <td>1.382878</td>\n",
       "    </tr>\n",
       "    <tr>\n",
       "      <th>4</th>\n",
       "      <td>-1.229909</td>\n",
       "      <td>-1.368693</td>\n",
       "      <td>-0.545857</td>\n",
       "      <td>1.161883</td>\n",
       "      <td>-0.924389</td>\n",
       "      <td>-1.354663</td>\n",
       "      <td>-1.458123</td>\n",
       "      <td>0.582698</td>\n",
       "      <td>-1.350985</td>\n",
       "      <td>0.574179</td>\n",
       "      <td>1.348591</td>\n",
       "    </tr>\n",
       "  </tbody>\n",
       "</table>\n",
       "</div>"
      ],
      "text/plain": [
       "      T_E_Y        AT        AP        AH      AFDP      GTEP       TIT  \\\n",
       "0 -1.231172 -1.439778 -0.826644  1.281436 -0.921232 -1.379101 -1.488376   \n",
       "1 -1.229909 -1.449601 -0.748647  1.304564 -0.921495 -1.363528 -1.482325   \n",
       "2 -1.230541 -1.434721 -0.686250  1.219086 -0.944385 -1.351309 -1.476275   \n",
       "3 -1.229909 -1.413702 -0.623853  1.169060 -0.946884 -1.348194 -1.464173   \n",
       "4 -1.229909 -1.368693 -0.545857  1.161883 -0.924389 -1.354663 -1.458123   \n",
       "\n",
       "        TAT       CDP        CO       NOX  \n",
       "0  0.585240 -1.357331  0.532012  1.387845  \n",
       "1  0.585240 -1.363676  0.568733  1.393002  \n",
       "2  0.568715 -1.360957  0.552938  1.363586  \n",
       "3  0.583969 -1.356424  0.548933  1.382878  \n",
       "4  0.582698 -1.350985  0.574179  1.348591  "
      ]
     },
     "execution_count": 9,
     "metadata": {},
     "output_type": "execute_result"
    }
   ],
   "source": [
    "# standardizing the data using StandardScaler function\n",
    "scaler = StandardScaler()\n",
    "\n",
    "gas_std = scaler.fit_transform(gas1)\n",
    "gas_std = pd.DataFrame(scaler.transform(gas1),columns=gas1.columns)\n",
    "gas_std.head()"
   ]
  },
  {
   "cell_type": "markdown",
   "id": "e73c3c8a",
   "metadata": {},
   "source": [
    "### Train and Test Split\n",
    "    Splitting the data into Train and Test data"
   ]
  },
  {
   "cell_type": "code",
   "execution_count": 10,
   "id": "367e913c",
   "metadata": {
    "ExecuteTime": {
     "end_time": "2023-08-21T13:15:44.312880Z",
     "start_time": "2023-08-21T13:15:44.295804Z"
    }
   },
   "outputs": [],
   "source": [
    "X = gas_std.drop(['T_E_Y'],axis=1)\n",
    "y = gas_std[['T_E_Y']]\n",
    "\n",
    "# Splitting the data into training and testing data sets\n",
    "X_train, X_test, y_train, y_test = train_test_split(X, y, \n",
    "                                                    test_size=0.3, random_state=3)"
   ]
  },
  {
   "cell_type": "markdown",
   "id": "b86dd674",
   "metadata": {},
   "source": [
    "### Tuning of Hyperparameters "
   ]
  },
  {
   "cell_type": "markdown",
   "id": "1d17e4b6",
   "metadata": {},
   "source": [
    "    Batch Size and Epochs"
   ]
  },
  {
   "cell_type": "code",
   "execution_count": 11,
   "id": "3e0d91f2",
   "metadata": {
    "ExecuteTime": {
     "end_time": "2023-08-21T13:25:58.843242Z",
     "start_time": "2023-08-21T13:15:48.086391Z"
    },
    "scrolled": true
   },
   "outputs": [
    {
     "name": "stdout",
     "output_type": "stream",
     "text": [
      "Fitting 5 folds for each of 9 candidates, totalling 45 fits\n",
      "[CV 1/5; 1/9] START batch_size=10, epochs=10....................................\n",
      "[CV 1/5; 1/9] END .....batch_size=10, epochs=10;, score=0.998 total time=   4.0s\n",
      "[CV 2/5; 1/9] START batch_size=10, epochs=10....................................\n",
      "[CV 2/5; 1/9] END .....batch_size=10, epochs=10;, score=0.997 total time=   3.7s\n",
      "[CV 3/5; 1/9] START batch_size=10, epochs=10....................................\n",
      "[CV 3/5; 1/9] END .....batch_size=10, epochs=10;, score=0.992 total time=   3.6s\n",
      "[CV 4/5; 1/9] START batch_size=10, epochs=10....................................\n",
      "[CV 4/5; 1/9] END .....batch_size=10, epochs=10;, score=0.997 total time=   3.6s\n",
      "[CV 5/5; 1/9] START batch_size=10, epochs=10....................................\n",
      "[CV 5/5; 1/9] END .....batch_size=10, epochs=10;, score=0.997 total time=   3.7s\n",
      "[CV 1/5; 2/9] START batch_size=10, epochs=50....................................\n",
      "[CV 1/5; 2/9] END .....batch_size=10, epochs=50;, score=0.998 total time=  15.8s\n",
      "[CV 2/5; 2/9] START batch_size=10, epochs=50....................................\n",
      "[CV 2/5; 2/9] END .....batch_size=10, epochs=50;, score=0.999 total time=  18.0s\n",
      "[CV 3/5; 2/9] START batch_size=10, epochs=50....................................\n",
      "[CV 3/5; 2/9] END .....batch_size=10, epochs=50;, score=0.998 total time=  18.3s\n",
      "[CV 4/5; 2/9] START batch_size=10, epochs=50....................................\n",
      "[CV 4/5; 2/9] END .....batch_size=10, epochs=50;, score=0.998 total time=  18.1s\n",
      "[CV 5/5; 2/9] START batch_size=10, epochs=50....................................\n",
      "[CV 5/5; 2/9] END .....batch_size=10, epochs=50;, score=0.998 total time=  18.2s\n",
      "[CV 1/5; 3/9] START batch_size=10, epochs=100...................................\n",
      "[CV 1/5; 3/9] END ....batch_size=10, epochs=100;, score=0.997 total time=  36.8s\n",
      "[CV 2/5; 3/9] START batch_size=10, epochs=100...................................\n",
      "[CV 2/5; 3/9] END ....batch_size=10, epochs=100;, score=0.999 total time=  38.1s\n",
      "[CV 3/5; 3/9] START batch_size=10, epochs=100...................................\n",
      "[CV 3/5; 3/9] END ....batch_size=10, epochs=100;, score=0.999 total time=  38.4s\n",
      "[CV 4/5; 3/9] START batch_size=10, epochs=100...................................\n",
      "[CV 4/5; 3/9] END ....batch_size=10, epochs=100;, score=0.999 total time=  38.3s\n",
      "[CV 5/5; 3/9] START batch_size=10, epochs=100...................................\n",
      "[CV 5/5; 3/9] END ....batch_size=10, epochs=100;, score=0.999 total time=  37.7s\n",
      "[CV 1/5; 4/9] START batch_size=20, epochs=10....................................\n",
      "[CV 1/5; 4/9] END .....batch_size=20, epochs=10;, score=0.998 total time=   3.0s\n",
      "[CV 2/5; 4/9] START batch_size=20, epochs=10....................................\n",
      "[CV 2/5; 4/9] END .....batch_size=20, epochs=10;, score=0.997 total time=   3.0s\n",
      "[CV 3/5; 4/9] START batch_size=20, epochs=10....................................\n",
      "[CV 3/5; 4/9] END .....batch_size=20, epochs=10;, score=0.996 total time=   3.0s\n",
      "[CV 4/5; 4/9] START batch_size=20, epochs=10....................................\n",
      "[CV 4/5; 4/9] END .....batch_size=20, epochs=10;, score=0.997 total time=   3.0s\n",
      "[CV 5/5; 4/9] START batch_size=20, epochs=10....................................\n",
      "[CV 5/5; 4/9] END .....batch_size=20, epochs=10;, score=0.998 total time=   3.0s\n",
      "[CV 1/5; 5/9] START batch_size=20, epochs=50....................................\n",
      "[CV 1/5; 5/9] END .....batch_size=20, epochs=50;, score=0.997 total time=  11.7s\n",
      "[CV 2/5; 5/9] START batch_size=20, epochs=50....................................\n",
      "[CV 2/5; 5/9] END .....batch_size=20, epochs=50;, score=0.998 total time=  11.2s\n",
      "[CV 3/5; 5/9] START batch_size=20, epochs=50....................................\n",
      "[CV 3/5; 5/9] END .....batch_size=20, epochs=50;, score=0.998 total time=  12.2s\n",
      "[CV 4/5; 5/9] START batch_size=20, epochs=50....................................\n",
      "[CV 4/5; 5/9] END .....batch_size=20, epochs=50;, score=0.998 total time=  11.1s\n",
      "[CV 5/5; 5/9] START batch_size=20, epochs=50....................................\n",
      "[CV 5/5; 5/9] END .....batch_size=20, epochs=50;, score=0.998 total time=  10.7s\n",
      "[CV 1/5; 6/9] START batch_size=20, epochs=100...................................\n",
      "[CV 1/5; 6/9] END ....batch_size=20, epochs=100;, score=0.998 total time=  21.0s\n",
      "[CV 2/5; 6/9] START batch_size=20, epochs=100...................................\n",
      "[CV 2/5; 6/9] END ....batch_size=20, epochs=100;, score=0.998 total time=  20.6s\n",
      "[CV 3/5; 6/9] START batch_size=20, epochs=100...................................\n",
      "[CV 3/5; 6/9] END ....batch_size=20, epochs=100;, score=0.999 total time=  21.9s\n",
      "[CV 4/5; 6/9] START batch_size=20, epochs=100...................................\n",
      "[CV 4/5; 6/9] END ....batch_size=20, epochs=100;, score=0.999 total time=  21.2s\n",
      "[CV 5/5; 6/9] START batch_size=20, epochs=100...................................\n",
      "[CV 5/5; 6/9] END ....batch_size=20, epochs=100;, score=0.999 total time=  21.2s\n",
      "[CV 1/5; 7/9] START batch_size=40, epochs=10....................................\n",
      "[CV 1/5; 7/9] END .....batch_size=40, epochs=10;, score=0.994 total time=   2.1s\n",
      "[CV 2/5; 7/9] START batch_size=40, epochs=10....................................\n",
      "[CV 2/5; 7/9] END .....batch_size=40, epochs=10;, score=0.997 total time=   2.1s\n",
      "[CV 3/5; 7/9] START batch_size=40, epochs=10....................................\n",
      "[CV 3/5; 7/9] END .....batch_size=40, epochs=10;, score=0.998 total time=   2.1s\n",
      "[CV 4/5; 7/9] START batch_size=40, epochs=10....................................\n",
      "[CV 4/5; 7/9] END .....batch_size=40, epochs=10;, score=0.998 total time=   2.1s\n",
      "[CV 5/5; 7/9] START batch_size=40, epochs=10....................................\n",
      "[CV 5/5; 7/9] END .....batch_size=40, epochs=10;, score=0.996 total time=   2.0s\n",
      "[CV 1/5; 8/9] START batch_size=40, epochs=50....................................\n",
      "[CV 1/5; 8/9] END .....batch_size=40, epochs=50;, score=0.998 total time=   6.9s\n",
      "[CV 2/5; 8/9] START batch_size=40, epochs=50....................................\n",
      "[CV 2/5; 8/9] END .....batch_size=40, epochs=50;, score=0.999 total time=   6.6s\n",
      "[CV 3/5; 8/9] START batch_size=40, epochs=50....................................\n",
      "[CV 3/5; 8/9] END .....batch_size=40, epochs=50;, score=0.998 total time=   6.4s\n",
      "[CV 4/5; 8/9] START batch_size=40, epochs=50....................................\n",
      "[CV 4/5; 8/9] END .....batch_size=40, epochs=50;, score=0.998 total time=   6.4s\n",
      "[CV 5/5; 8/9] START batch_size=40, epochs=50....................................\n",
      "[CV 5/5; 8/9] END .....batch_size=40, epochs=50;, score=0.998 total time=   6.6s\n",
      "[CV 1/5; 9/9] START batch_size=40, epochs=100...................................\n",
      "[CV 1/5; 9/9] END ....batch_size=40, epochs=100;, score=0.997 total time=  11.8s\n",
      "[CV 2/5; 9/9] START batch_size=40, epochs=100...................................\n",
      "[CV 2/5; 9/9] END ....batch_size=40, epochs=100;, score=0.998 total time=  11.4s\n",
      "[CV 3/5; 9/9] START batch_size=40, epochs=100...................................\n",
      "[CV 3/5; 9/9] END ....batch_size=40, epochs=100;, score=0.997 total time=  11.5s\n",
      "[CV 4/5; 9/9] START batch_size=40, epochs=100...................................\n",
      "[CV 4/5; 9/9] END ....batch_size=40, epochs=100;, score=0.999 total time=  12.3s\n",
      "[CV 5/5; 9/9] START batch_size=40, epochs=100...................................\n",
      "[CV 5/5; 9/9] END ....batch_size=40, epochs=100;, score=0.998 total time=  12.1s\n"
     ]
    }
   ],
   "source": [
    "# creating the model\n",
    "def create_model():\n",
    "    model_1 = Sequential()\n",
    "    model_1.add(Dense(32,input_dim=10,activation='relu'))\n",
    "    model_1.add(Dense(64,activation='relu'))\n",
    "    model_1.add(Dense(32,activation=\"relu\"))\n",
    "    model_1.add(Dense(64,activation=\"relu\"))\n",
    "    model_1.add(Dense(32,activation=\"relu\"))\n",
    "    model_1.add(Dense(32,activation=\"relu\"))\n",
    "    model_1.add(Dense(64,activation=\"relu\"))\n",
    "    model_1.add(Dense(64,activation=\"relu\"))\n",
    "    model_1.add(Dense(units=1,activation=\"linear\"))\n",
    "    \n",
    "    adam = Adam(learning_rate=0.01)\n",
    "    model_1.compile(loss='mean_absolute_error', optimizer='adam', metrics=[\"MAE\"])\n",
    "    return model_1\n",
    "    \n",
    "\n",
    "# Create the model\n",
    "# KerasRegressor() is used here as we want to predict TEY variable based on all the other features\n",
    "model_1 = KerasRegressor(build_fn=create_model, verbose=0)\n",
    "# Defining the grid search parameters\n",
    "batch_size = [10,20,40]\n",
    "epochs = [10,50,100]\n",
    "# make a dictionary of the grid search parameters\n",
    "param_grid = dict(batch_size=batch_size, epochs=epochs)\n",
    "# Building and fitting the GridSearchCV\n",
    "grid = GridSearchCV(estimator=model_1, param_grid=param_grid, \n",
    "                    cv=KFold(), verbose=10)\n",
    "grid_result1 = grid.fit(X_test,y_test)"
   ]
  },
  {
   "cell_type": "code",
   "execution_count": 12,
   "id": "6e46198d",
   "metadata": {
    "ExecuteTime": {
     "end_time": "2023-08-21T13:28:14.445684Z",
     "start_time": "2023-08-21T13:28:14.433028Z"
    }
   },
   "outputs": [
    {
     "name": "stdout",
     "output_type": "stream",
     "text": [
      "Best 0.9985319436087394, using {'batch_size': 20, 'epochs': 100}\n",
      "0.9963873681141362, 0.002056734581691622 with {'batch_size': 10, 'epochs': 10}\n",
      "0.9982587871854427, 0.0001387564918594208 with {'batch_size': 10, 'epochs': 50}\n",
      "0.9982756969085609, 0.0006718899585158126 with {'batch_size': 10, 'epochs': 100}\n",
      "0.997247230052982, 0.000805200287200976 with {'batch_size': 20, 'epochs': 10}\n",
      "0.9979965235108661, 0.00037936088851395645 with {'batch_size': 20, 'epochs': 50}\n",
      "0.9985319436087394, 0.0002235906846221335 with {'batch_size': 20, 'epochs': 100}\n",
      "0.9964085369849783, 0.001605082344677442 with {'batch_size': 40, 'epochs': 10}\n",
      "0.9981635177291119, 0.0002838704820439069 with {'batch_size': 40, 'epochs': 50}\n",
      "0.9978057187534002, 0.0005544624395120369 with {'batch_size': 40, 'epochs': 100}\n"
     ]
    }
   ],
   "source": [
    "# Summarizing the results\n",
    "print('Best {}, using {}'.format(grid_result1.best_score_, grid_result1.best_params_))\n",
    "means  = grid_result1.cv_results_[\"mean_test_score\"]\n",
    "stds   = grid_result1.cv_results_[\"std_test_score\"]\n",
    "params = grid_result1.cv_results_[\"params\"]\n",
    "for mean,stdev,param in zip(means, stds,params):\n",
    "    print(\"{}, {} with {}\".format(mean, stdev, param))"
   ]
  },
  {
   "cell_type": "markdown",
   "id": "a44bfca0",
   "metadata": {},
   "source": [
    "    Learning Rate, Number of layers and Neurons "
   ]
  },
  {
   "cell_type": "code",
   "execution_count": 13,
   "id": "9ff13bd6",
   "metadata": {
    "ExecuteTime": {
     "end_time": "2023-08-21T13:28:32.574126Z",
     "start_time": "2023-08-21T13:28:32.460347Z"
    },
    "scrolled": true
   },
   "outputs": [
    {
     "name": "stdout",
     "output_type": "stream",
     "text": [
      "INFO:tensorflow:Reloading Tuner from project\\Gas Turbine\\tuner0.json\n",
      "Search space summary\n",
      "Default search space size: 22\n",
      "num_layers (Int)\n",
      "{'default': None, 'conditions': [], 'min_value': 2, 'max_value': 20, 'step': 1, 'sampling': 'linear'}\n",
      "units_0 (Int)\n",
      "{'default': None, 'conditions': [], 'min_value': 32, 'max_value': 100, 'step': 32, 'sampling': 'linear'}\n",
      "units_1 (Int)\n",
      "{'default': None, 'conditions': [], 'min_value': 32, 'max_value': 100, 'step': 32, 'sampling': 'linear'}\n",
      "learning_rate (Choice)\n",
      "{'default': 0.01, 'conditions': [], 'values': [0.01, 0.001, 0.0001], 'ordered': True}\n",
      "units_2 (Int)\n",
      "{'default': None, 'conditions': [], 'min_value': 32, 'max_value': 100, 'step': 32, 'sampling': 'linear'}\n",
      "units_3 (Int)\n",
      "{'default': None, 'conditions': [], 'min_value': 32, 'max_value': 100, 'step': 32, 'sampling': 'linear'}\n",
      "units_4 (Int)\n",
      "{'default': None, 'conditions': [], 'min_value': 32, 'max_value': 100, 'step': 32, 'sampling': 'linear'}\n",
      "units_5 (Int)\n",
      "{'default': None, 'conditions': [], 'min_value': 32, 'max_value': 100, 'step': 32, 'sampling': 'linear'}\n",
      "units_6 (Int)\n",
      "{'default': None, 'conditions': [], 'min_value': 32, 'max_value': 100, 'step': 32, 'sampling': 'linear'}\n",
      "units_7 (Int)\n",
      "{'default': None, 'conditions': [], 'min_value': 32, 'max_value': 100, 'step': 32, 'sampling': 'linear'}\n",
      "units_8 (Int)\n",
      "{'default': None, 'conditions': [], 'min_value': 32, 'max_value': 100, 'step': 32, 'sampling': 'linear'}\n",
      "units_9 (Int)\n",
      "{'default': None, 'conditions': [], 'min_value': 32, 'max_value': 100, 'step': 32, 'sampling': 'linear'}\n",
      "units_10 (Int)\n",
      "{'default': None, 'conditions': [], 'min_value': 32, 'max_value': 100, 'step': 32, 'sampling': 'linear'}\n",
      "units_11 (Int)\n",
      "{'default': None, 'conditions': [], 'min_value': 32, 'max_value': 100, 'step': 32, 'sampling': 'linear'}\n",
      "units_12 (Int)\n",
      "{'default': None, 'conditions': [], 'min_value': 32, 'max_value': 100, 'step': 32, 'sampling': 'linear'}\n",
      "units_13 (Int)\n",
      "{'default': None, 'conditions': [], 'min_value': 32, 'max_value': 100, 'step': 32, 'sampling': 'linear'}\n",
      "units_14 (Int)\n",
      "{'default': None, 'conditions': [], 'min_value': 32, 'max_value': 100, 'step': 32, 'sampling': 'linear'}\n",
      "units_15 (Int)\n",
      "{'default': None, 'conditions': [], 'min_value': 32, 'max_value': 100, 'step': 32, 'sampling': 'linear'}\n",
      "units_16 (Int)\n",
      "{'default': None, 'conditions': [], 'min_value': 32, 'max_value': 100, 'step': 32, 'sampling': 'linear'}\n",
      "units_17 (Int)\n",
      "{'default': None, 'conditions': [], 'min_value': 32, 'max_value': 100, 'step': 32, 'sampling': 'linear'}\n",
      "units_18 (Int)\n",
      "{'default': None, 'conditions': [], 'min_value': 32, 'max_value': 100, 'step': 32, 'sampling': 'linear'}\n",
      "units_19 (Int)\n",
      "{'default': None, 'conditions': [], 'min_value': 32, 'max_value': 100, 'step': 32, 'sampling': 'linear'}\n"
     ]
    }
   ],
   "source": [
    "def build_model(hp):\n",
    "    model_2 =Sequential()\n",
    "    for i in range(hp.Int('num_layers', 2, 20)):\n",
    "        model_2.add(Dense(units = hp.Int('units_' + str(i), min_value=32, \n",
    "                                         max_value=100, step=32), activation='relu'))\n",
    "    model_2.add(Dense(1, activation='linear'))\n",
    "    # Compiling\n",
    "    model_2.compile(optimizer=keras.optimizers.Adam(hp.Choice('learning_rate', [1e-2, 1e-3, 1e-4])),\n",
    "                  loss='mean_absolute_error', metrics=['mean_absolute_error'])\n",
    "    return model_2\n",
    "\n",
    "import keras\n",
    "from keras_tuner.tuners import RandomSearch\n",
    "tuner = RandomSearch(build_model, objective= 'val_mean_absolute_error', max_trials= 5,\n",
    "                     executions_per_trial= 3, directory= 'project', project_name= 'Gas Turbine')\n",
    "tuner.search_space_summary()"
   ]
  },
  {
   "cell_type": "code",
   "execution_count": 14,
   "id": "9016f077",
   "metadata": {
    "ExecuteTime": {
     "end_time": "2023-08-21T13:30:20.242979Z",
     "start_time": "2023-08-21T13:30:20.224553Z"
    },
    "scrolled": true
   },
   "outputs": [
    {
     "name": "stdout",
     "output_type": "stream",
     "text": [
      "INFO:tensorflow:Oracle triggered exit\n"
     ]
    }
   ],
   "source": [
    "tuner.search(X_train, y_train, epochs=100, validation_data=(X_test, y_test))"
   ]
  },
  {
   "cell_type": "code",
   "execution_count": 15,
   "id": "110fafbf",
   "metadata": {
    "ExecuteTime": {
     "end_time": "2023-08-21T13:30:40.990400Z",
     "start_time": "2023-08-21T13:30:40.968254Z"
    },
    "scrolled": false
   },
   "outputs": [
    {
     "name": "stdout",
     "output_type": "stream",
     "text": [
      "Results summary\n",
      "Results in project\\Gas Turbine\n",
      "Showing 10 best trials\n",
      "Objective(name=\"val_mean_absolute_error\", direction=\"min\")\n",
      "\n",
      "Trial 4 summary\n",
      "Hyperparameters:\n",
      "num_layers: 7\n",
      "units_0: 64\n",
      "units_1: 96\n",
      "learning_rate: 0.0001\n",
      "units_2: 96\n",
      "units_3: 96\n",
      "units_4: 96\n",
      "units_5: 32\n",
      "units_6: 64\n",
      "units_7: 96\n",
      "units_8: 96\n",
      "units_9: 32\n",
      "units_10: 64\n",
      "units_11: 32\n",
      "units_12: 96\n",
      "units_13: 32\n",
      "units_14: 32\n",
      "units_15: 64\n",
      "units_16: 64\n",
      "units_17: 64\n",
      "units_18: 96\n",
      "units_19: 32\n",
      "Score: 0.022223589320977528\n",
      "\n",
      "Trial 1 summary\n",
      "Hyperparameters:\n",
      "num_layers: 9\n",
      "units_0: 64\n",
      "units_1: 96\n",
      "learning_rate: 0.0001\n",
      "units_2: 64\n",
      "units_3: 64\n",
      "units_4: 32\n",
      "units_5: 64\n",
      "units_6: 32\n",
      "units_7: 32\n",
      "units_8: 64\n",
      "units_9: 96\n",
      "units_10: 32\n",
      "units_11: 32\n",
      "units_12: 96\n",
      "units_13: 96\n",
      "units_14: 32\n",
      "units_15: 32\n",
      "units_16: 96\n",
      "Score: 0.02247406728565693\n",
      "\n",
      "Trial 3 summary\n",
      "Hyperparameters:\n",
      "num_layers: 19\n",
      "units_0: 32\n",
      "units_1: 64\n",
      "learning_rate: 0.0001\n",
      "units_2: 64\n",
      "units_3: 32\n",
      "units_4: 96\n",
      "units_5: 96\n",
      "units_6: 64\n",
      "units_7: 32\n",
      "units_8: 96\n",
      "units_9: 32\n",
      "units_10: 64\n",
      "units_11: 32\n",
      "units_12: 32\n",
      "units_13: 96\n",
      "units_14: 32\n",
      "units_15: 96\n",
      "units_16: 32\n",
      "units_17: 96\n",
      "units_18: 64\n",
      "units_19: 32\n",
      "Score: 0.02427726611495018\n",
      "\n",
      "Trial 0 summary\n",
      "Hyperparameters:\n",
      "num_layers: 17\n",
      "units_0: 64\n",
      "units_1: 96\n",
      "learning_rate: 0.01\n",
      "units_2: 32\n",
      "units_3: 32\n",
      "units_4: 32\n",
      "units_5: 32\n",
      "units_6: 32\n",
      "units_7: 32\n",
      "units_8: 32\n",
      "units_9: 32\n",
      "units_10: 32\n",
      "units_11: 32\n",
      "units_12: 32\n",
      "units_13: 32\n",
      "units_14: 32\n",
      "units_15: 32\n",
      "units_16: 32\n",
      "Score: 0.026165369277199108\n",
      "\n",
      "Trial 2 summary\n",
      "Hyperparameters:\n",
      "num_layers: 20\n",
      "units_0: 96\n",
      "units_1: 96\n",
      "learning_rate: 0.01\n",
      "units_2: 96\n",
      "units_3: 32\n",
      "units_4: 64\n",
      "units_5: 64\n",
      "units_6: 64\n",
      "units_7: 32\n",
      "units_8: 64\n",
      "units_9: 64\n",
      "units_10: 64\n",
      "units_11: 32\n",
      "units_12: 32\n",
      "units_13: 32\n",
      "units_14: 32\n",
      "units_15: 32\n",
      "units_16: 32\n",
      "units_17: 32\n",
      "units_18: 32\n",
      "units_19: 32\n",
      "Score: 0.2579586487263441\n"
     ]
    }
   ],
   "source": [
    "tuner.results_summary()"
   ]
  },
  {
   "cell_type": "markdown",
   "id": "f07983fe",
   "metadata": {},
   "source": [
    "## Building the model using Neural Networks "
   ]
  },
  {
   "cell_type": "code",
   "execution_count": 16,
   "id": "40ea84f9",
   "metadata": {
    "ExecuteTime": {
     "end_time": "2023-08-21T13:31:23.196176Z",
     "start_time": "2023-08-21T13:31:23.171719Z"
    }
   },
   "outputs": [],
   "source": [
    "# Train and Test splitting the standardized data\n",
    "X = gas_std.drop(['T_E_Y'],axis=1)\n",
    "y = gas_std[['T_E_Y']]\n",
    "\n",
    "X_train, X_test, y_train, y_test = train_test_split(X, y, test_size = 0.20, random_state=42)"
   ]
  },
  {
   "cell_type": "code",
   "execution_count": 20,
   "id": "02611a00",
   "metadata": {
    "ExecuteTime": {
     "end_time": "2023-08-21T13:56:29.742365Z",
     "start_time": "2023-08-21T13:55:45.264595Z"
    },
    "scrolled": true
   },
   "outputs": [
    {
     "name": "stdout",
     "output_type": "stream",
     "text": [
      "Epoch 1/100\n",
      "422/422 [==============================] - 1s 1ms/step - loss: 0.0761 - MAE: 0.1136 - MSE: 0.0761 - val_loss: 0.0034 - val_MAE: 0.0415 - val_MSE: 0.0034\n",
      "Epoch 2/100\n",
      "422/422 [==============================] - 0s 1ms/step - loss: 0.0028 - MAE: 0.0379 - MSE: 0.0028 - val_loss: 0.0025 - val_MAE: 0.0360 - val_MSE: 0.0025\n",
      "Epoch 3/100\n",
      "422/422 [==============================] - 0s 1ms/step - loss: 0.0023 - MAE: 0.0348 - MSE: 0.0023 - val_loss: 0.0023 - val_MAE: 0.0337 - val_MSE: 0.0023\n",
      "Epoch 4/100\n",
      "422/422 [==============================] - 0s 971us/step - loss: 0.0021 - MAE: 0.0329 - MSE: 0.0021 - val_loss: 0.0020 - val_MAE: 0.0327 - val_MSE: 0.0020\n",
      "Epoch 5/100\n",
      "422/422 [==============================] - 0s 985us/step - loss: 0.0019 - MAE: 0.0316 - MSE: 0.0019 - val_loss: 0.0018 - val_MAE: 0.0301 - val_MSE: 0.0018\n",
      "Epoch 6/100\n",
      "422/422 [==============================] - 0s 981us/step - loss: 0.0018 - MAE: 0.0310 - MSE: 0.0018 - val_loss: 0.0016 - val_MAE: 0.0288 - val_MSE: 0.0016\n",
      "Epoch 7/100\n",
      "422/422 [==============================] - 0s 980us/step - loss: 0.0019 - MAE: 0.0312 - MSE: 0.0019 - val_loss: 0.0029 - val_MAE: 0.0414 - val_MSE: 0.0029\n",
      "Epoch 8/100\n",
      "422/422 [==============================] - 0s 983us/step - loss: 0.0020 - MAE: 0.0312 - MSE: 0.0020 - val_loss: 0.0019 - val_MAE: 0.0320 - val_MSE: 0.0019\n",
      "Epoch 9/100\n",
      "422/422 [==============================] - 0s 968us/step - loss: 0.0018 - MAE: 0.0305 - MSE: 0.0018 - val_loss: 0.0017 - val_MAE: 0.0303 - val_MSE: 0.0017\n",
      "Epoch 10/100\n",
      "422/422 [==============================] - 0s 1ms/step - loss: 0.0019 - MAE: 0.0309 - MSE: 0.0019 - val_loss: 0.0017 - val_MAE: 0.0293 - val_MSE: 0.0017\n",
      "Epoch 11/100\n",
      "422/422 [==============================] - 0s 983us/step - loss: 0.0018 - MAE: 0.0299 - MSE: 0.0018 - val_loss: 0.0015 - val_MAE: 0.0280 - val_MSE: 0.0015\n",
      "Epoch 12/100\n",
      "422/422 [==============================] - 0s 1ms/step - loss: 0.0016 - MAE: 0.0284 - MSE: 0.0016 - val_loss: 0.0016 - val_MAE: 0.0279 - val_MSE: 0.0016\n",
      "Epoch 13/100\n",
      "422/422 [==============================] - 0s 1ms/step - loss: 0.0016 - MAE: 0.0287 - MSE: 0.0016 - val_loss: 0.0014 - val_MAE: 0.0276 - val_MSE: 0.0014\n",
      "Epoch 14/100\n",
      "422/422 [==============================] - 0s 1ms/step - loss: 0.0016 - MAE: 0.0285 - MSE: 0.0016 - val_loss: 0.0014 - val_MAE: 0.0268 - val_MSE: 0.0014\n",
      "Epoch 15/100\n",
      "422/422 [==============================] - 0s 1ms/step - loss: 0.0016 - MAE: 0.0290 - MSE: 0.0016 - val_loss: 0.0019 - val_MAE: 0.0329 - val_MSE: 0.0019\n",
      "Epoch 16/100\n",
      "422/422 [==============================] - 0s 1ms/step - loss: 0.0016 - MAE: 0.0286 - MSE: 0.0016 - val_loss: 0.0018 - val_MAE: 0.0308 - val_MSE: 0.0018\n",
      "Epoch 17/100\n",
      "422/422 [==============================] - 0s 1ms/step - loss: 0.0015 - MAE: 0.0280 - MSE: 0.0015 - val_loss: 0.0018 - val_MAE: 0.0305 - val_MSE: 0.0018\n",
      "Epoch 18/100\n",
      "422/422 [==============================] - 0s 1ms/step - loss: 0.0016 - MAE: 0.0284 - MSE: 0.0016 - val_loss: 0.0016 - val_MAE: 0.0289 - val_MSE: 0.0016\n",
      "Epoch 19/100\n",
      "422/422 [==============================] - 0s 1ms/step - loss: 0.0015 - MAE: 0.0273 - MSE: 0.0015 - val_loss: 0.0013 - val_MAE: 0.0254 - val_MSE: 0.0013\n",
      "Epoch 20/100\n",
      "422/422 [==============================] - 0s 1ms/step - loss: 0.0015 - MAE: 0.0276 - MSE: 0.0015 - val_loss: 0.0014 - val_MAE: 0.0281 - val_MSE: 0.0014\n",
      "Epoch 21/100\n",
      "422/422 [==============================] - 0s 1ms/step - loss: 0.0016 - MAE: 0.0282 - MSE: 0.0016 - val_loss: 0.0015 - val_MAE: 0.0272 - val_MSE: 0.0015\n",
      "Epoch 22/100\n",
      "422/422 [==============================] - 0s 1ms/step - loss: 0.0015 - MAE: 0.0277 - MSE: 0.0015 - val_loss: 0.0014 - val_MAE: 0.0259 - val_MSE: 0.0014\n",
      "Epoch 23/100\n",
      "422/422 [==============================] - 0s 1ms/step - loss: 0.0014 - MAE: 0.0269 - MSE: 0.0014 - val_loss: 0.0023 - val_MAE: 0.0335 - val_MSE: 0.0023\n",
      "Epoch 24/100\n",
      "422/422 [==============================] - 0s 1ms/step - loss: 0.0016 - MAE: 0.0280 - MSE: 0.0016 - val_loss: 0.0014 - val_MAE: 0.0272 - val_MSE: 0.0014\n",
      "Epoch 25/100\n",
      "422/422 [==============================] - 0s 979us/step - loss: 0.0015 - MAE: 0.0274 - MSE: 0.0015 - val_loss: 0.0012 - val_MAE: 0.0248 - val_MSE: 0.0012\n",
      "Epoch 26/100\n",
      "422/422 [==============================] - 0s 1ms/step - loss: 0.0014 - MAE: 0.0264 - MSE: 0.0014 - val_loss: 0.0013 - val_MAE: 0.0258 - val_MSE: 0.0013\n",
      "Epoch 27/100\n",
      "422/422 [==============================] - 0s 956us/step - loss: 0.0014 - MAE: 0.0267 - MSE: 0.0014 - val_loss: 0.0025 - val_MAE: 0.0388 - val_MSE: 0.0025\n",
      "Epoch 28/100\n",
      "422/422 [==============================] - 0s 1ms/step - loss: 0.0015 - MAE: 0.0280 - MSE: 0.0015 - val_loss: 0.0016 - val_MAE: 0.0287 - val_MSE: 0.0016\n",
      "Epoch 29/100\n",
      "422/422 [==============================] - 0s 1ms/step - loss: 0.0014 - MAE: 0.0270 - MSE: 0.0014 - val_loss: 0.0012 - val_MAE: 0.0246 - val_MSE: 0.0012\n",
      "Epoch 30/100\n",
      "422/422 [==============================] - 0s 1ms/step - loss: 0.0013 - MAE: 0.0262 - MSE: 0.0013 - val_loss: 0.0013 - val_MAE: 0.0265 - val_MSE: 0.0013\n",
      "Epoch 31/100\n",
      "422/422 [==============================] - 0s 987us/step - loss: 0.0013 - MAE: 0.0259 - MSE: 0.0013 - val_loss: 0.0029 - val_MAE: 0.0419 - val_MSE: 0.0029\n",
      "Epoch 32/100\n",
      "422/422 [==============================] - 0s 968us/step - loss: 0.0014 - MAE: 0.0269 - MSE: 0.0014 - val_loss: 0.0013 - val_MAE: 0.0265 - val_MSE: 0.0013\n",
      "Epoch 33/100\n",
      "422/422 [==============================] - 0s 1000us/step - loss: 0.0014 - MAE: 0.0269 - MSE: 0.0014 - val_loss: 0.0012 - val_MAE: 0.0252 - val_MSE: 0.0012\n",
      "Epoch 34/100\n",
      "422/422 [==============================] - 0s 1ms/step - loss: 0.0013 - MAE: 0.0259 - MSE: 0.0013 - val_loss: 0.0012 - val_MAE: 0.0256 - val_MSE: 0.0012\n",
      "Epoch 35/100\n",
      "422/422 [==============================] - 0s 1ms/step - loss: 0.0013 - MAE: 0.0260 - MSE: 0.0013 - val_loss: 0.0014 - val_MAE: 0.0278 - val_MSE: 0.0014\n",
      "Epoch 36/100\n",
      "422/422 [==============================] - 0s 1ms/step - loss: 0.0015 - MAE: 0.0273 - MSE: 0.0015 - val_loss: 0.0022 - val_MAE: 0.0353 - val_MSE: 0.0022\n",
      "Epoch 37/100\n",
      "422/422 [==============================] - 0s 972us/step - loss: 0.0014 - MAE: 0.0265 - MSE: 0.0014 - val_loss: 0.0013 - val_MAE: 0.0252 - val_MSE: 0.0013\n",
      "Epoch 38/100\n",
      "422/422 [==============================] - 0s 969us/step - loss: 0.0014 - MAE: 0.0268 - MSE: 0.0014 - val_loss: 0.0012 - val_MAE: 0.0251 - val_MSE: 0.0012\n",
      "Epoch 39/100\n",
      "422/422 [==============================] - 0s 978us/step - loss: 0.0013 - MAE: 0.0257 - MSE: 0.0013 - val_loss: 0.0021 - val_MAE: 0.0328 - val_MSE: 0.0021\n",
      "Epoch 40/100\n",
      "422/422 [==============================] - 0s 974us/step - loss: 0.0014 - MAE: 0.0262 - MSE: 0.0014 - val_loss: 0.0012 - val_MAE: 0.0248 - val_MSE: 0.0012\n",
      "Epoch 41/100\n",
      "422/422 [==============================] - 0s 953us/step - loss: 0.0013 - MAE: 0.0262 - MSE: 0.0013 - val_loss: 0.0012 - val_MAE: 0.0249 - val_MSE: 0.0012\n",
      "Epoch 42/100\n",
      "422/422 [==============================] - 0s 969us/step - loss: 0.0013 - MAE: 0.0262 - MSE: 0.0013 - val_loss: 0.0012 - val_MAE: 0.0243 - val_MSE: 0.0012\n",
      "Epoch 43/100\n",
      "422/422 [==============================] - 0s 976us/step - loss: 0.0012 - MAE: 0.0254 - MSE: 0.0012 - val_loss: 0.0012 - val_MAE: 0.0244 - val_MSE: 0.0012\n",
      "Epoch 44/100\n",
      "422/422 [==============================] - 0s 989us/step - loss: 0.0013 - MAE: 0.0260 - MSE: 0.0013 - val_loss: 0.0017 - val_MAE: 0.0288 - val_MSE: 0.0017\n",
      "Epoch 45/100\n",
      "422/422 [==============================] - 0s 1ms/step - loss: 0.0013 - MAE: 0.0254 - MSE: 0.0013 - val_loss: 0.0016 - val_MAE: 0.0301 - val_MSE: 0.0016\n",
      "Epoch 46/100\n",
      "422/422 [==============================] - 0s 1ms/step - loss: 0.0015 - MAE: 0.0278 - MSE: 0.0015 - val_loss: 0.0014 - val_MAE: 0.0283 - val_MSE: 0.0014\n",
      "Epoch 47/100\n",
      "422/422 [==============================] - 0s 1ms/step - loss: 0.0013 - MAE: 0.0253 - MSE: 0.0013 - val_loss: 0.0012 - val_MAE: 0.0248 - val_MSE: 0.0012\n",
      "Epoch 48/100\n",
      "422/422 [==============================] - 0s 1ms/step - loss: 0.0013 - MAE: 0.0254 - MSE: 0.0013 - val_loss: 0.0013 - val_MAE: 0.0262 - val_MSE: 0.0013\n",
      "Epoch 49/100\n",
      "422/422 [==============================] - 0s 1ms/step - loss: 0.0012 - MAE: 0.0251 - MSE: 0.0012 - val_loss: 0.0012 - val_MAE: 0.0246 - val_MSE: 0.0012\n",
      "Epoch 50/100\n"
     ]
    },
    {
     "name": "stdout",
     "output_type": "stream",
     "text": [
      "422/422 [==============================] - 0s 999us/step - loss: 0.0012 - MAE: 0.0249 - MSE: 0.0012 - val_loss: 0.0012 - val_MAE: 0.0246 - val_MSE: 0.0012\n",
      "Epoch 51/100\n",
      "422/422 [==============================] - 0s 969us/step - loss: 0.0013 - MAE: 0.0256 - MSE: 0.0013 - val_loss: 0.0012 - val_MAE: 0.0249 - val_MSE: 0.0012\n",
      "Epoch 52/100\n",
      "422/422 [==============================] - 0s 972us/step - loss: 0.0012 - MAE: 0.0250 - MSE: 0.0012 - val_loss: 0.0014 - val_MAE: 0.0268 - val_MSE: 0.0014\n",
      "Epoch 53/100\n",
      "422/422 [==============================] - 0s 985us/step - loss: 0.0013 - MAE: 0.0257 - MSE: 0.0013 - val_loss: 0.0013 - val_MAE: 0.0248 - val_MSE: 0.0013\n",
      "Epoch 54/100\n",
      "422/422 [==============================] - 0s 974us/step - loss: 0.0013 - MAE: 0.0258 - MSE: 0.0013 - val_loss: 0.0012 - val_MAE: 0.0258 - val_MSE: 0.0012\n",
      "Epoch 55/100\n",
      "422/422 [==============================] - 0s 1ms/step - loss: 0.0012 - MAE: 0.0253 - MSE: 0.0012 - val_loss: 0.0012 - val_MAE: 0.0248 - val_MSE: 0.0012\n",
      "Epoch 56/100\n",
      "422/422 [==============================] - 0s 1ms/step - loss: 0.0012 - MAE: 0.0247 - MSE: 0.0012 - val_loss: 0.0019 - val_MAE: 0.0338 - val_MSE: 0.0019\n",
      "Epoch 57/100\n",
      "422/422 [==============================] - 0s 1ms/step - loss: 0.0012 - MAE: 0.0253 - MSE: 0.0012 - val_loss: 0.0011 - val_MAE: 0.0237 - val_MSE: 0.0011\n",
      "Epoch 58/100\n",
      "422/422 [==============================] - 0s 1ms/step - loss: 0.0012 - MAE: 0.0254 - MSE: 0.0012 - val_loss: 0.0012 - val_MAE: 0.0249 - val_MSE: 0.0012\n",
      "Epoch 59/100\n",
      "422/422 [==============================] - 0s 1ms/step - loss: 0.0012 - MAE: 0.0255 - MSE: 0.0012 - val_loss: 0.0013 - val_MAE: 0.0253 - val_MSE: 0.0013\n",
      "Epoch 60/100\n",
      "422/422 [==============================] - 0s 992us/step - loss: 0.0013 - MAE: 0.0258 - MSE: 0.0013 - val_loss: 0.0018 - val_MAE: 0.0328 - val_MSE: 0.0018\n",
      "Epoch 61/100\n",
      "422/422 [==============================] - 0s 993us/step - loss: 0.0013 - MAE: 0.0265 - MSE: 0.0013 - val_loss: 0.0012 - val_MAE: 0.0245 - val_MSE: 0.0012\n",
      "Epoch 62/100\n",
      "422/422 [==============================] - 0s 991us/step - loss: 0.0013 - MAE: 0.0255 - MSE: 0.0013 - val_loss: 0.0012 - val_MAE: 0.0240 - val_MSE: 0.0012\n",
      "Epoch 63/100\n",
      "422/422 [==============================] - 0s 979us/step - loss: 0.0011 - MAE: 0.0243 - MSE: 0.0011 - val_loss: 0.0013 - val_MAE: 0.0270 - val_MSE: 0.0013\n",
      "Epoch 64/100\n",
      "422/422 [==============================] - 0s 975us/step - loss: 0.0012 - MAE: 0.0251 - MSE: 0.0012 - val_loss: 0.0016 - val_MAE: 0.0301 - val_MSE: 0.0016\n",
      "Epoch 65/100\n",
      "422/422 [==============================] - 0s 976us/step - loss: 0.0012 - MAE: 0.0252 - MSE: 0.0012 - val_loss: 0.0010 - val_MAE: 0.0230 - val_MSE: 0.0010\n",
      "Epoch 66/100\n",
      "422/422 [==============================] - 0s 1ms/step - loss: 0.0012 - MAE: 0.0245 - MSE: 0.0012 - val_loss: 0.0018 - val_MAE: 0.0305 - val_MSE: 0.0018\n",
      "Epoch 67/100\n",
      "422/422 [==============================] - 0s 985us/step - loss: 0.0012 - MAE: 0.0246 - MSE: 0.0012 - val_loss: 0.0017 - val_MAE: 0.0312 - val_MSE: 0.0017\n",
      "Epoch 68/100\n",
      "422/422 [==============================] - 0s 998us/step - loss: 0.0012 - MAE: 0.0249 - MSE: 0.0012 - val_loss: 0.0013 - val_MAE: 0.0272 - val_MSE: 0.0013\n",
      "Epoch 69/100\n",
      "422/422 [==============================] - 0s 987us/step - loss: 0.0012 - MAE: 0.0247 - MSE: 0.0012 - val_loss: 0.0017 - val_MAE: 0.0311 - val_MSE: 0.0017\n",
      "Epoch 70/100\n",
      "422/422 [==============================] - 0s 990us/step - loss: 0.0012 - MAE: 0.0251 - MSE: 0.0012 - val_loss: 0.0015 - val_MAE: 0.0290 - val_MSE: 0.0015\n",
      "Epoch 71/100\n",
      "422/422 [==============================] - 0s 1ms/step - loss: 0.0012 - MAE: 0.0245 - MSE: 0.0012 - val_loss: 0.0014 - val_MAE: 0.0280 - val_MSE: 0.0014\n",
      "Epoch 72/100\n",
      "422/422 [==============================] - 0s 1ms/step - loss: 0.0012 - MAE: 0.0244 - MSE: 0.0012 - val_loss: 0.0011 - val_MAE: 0.0240 - val_MSE: 0.0011\n",
      "Epoch 73/100\n",
      "422/422 [==============================] - 0s 996us/step - loss: 0.0011 - MAE: 0.0241 - MSE: 0.0011 - val_loss: 0.0012 - val_MAE: 0.0261 - val_MSE: 0.0012\n",
      "Epoch 74/100\n",
      "422/422 [==============================] - 0s 985us/step - loss: 0.0012 - MAE: 0.0247 - MSE: 0.0012 - val_loss: 0.0013 - val_MAE: 0.0269 - val_MSE: 0.0013\n",
      "Epoch 75/100\n",
      "422/422 [==============================] - 0s 1ms/step - loss: 0.0012 - MAE: 0.0251 - MSE: 0.0012 - val_loss: 0.0011 - val_MAE: 0.0242 - val_MSE: 0.0011\n",
      "Epoch 76/100\n",
      "422/422 [==============================] - 0s 1ms/step - loss: 0.0013 - MAE: 0.0251 - MSE: 0.0013 - val_loss: 0.0011 - val_MAE: 0.0234 - val_MSE: 0.0011\n",
      "Epoch 77/100\n",
      "422/422 [==============================] - 0s 1ms/step - loss: 0.0011 - MAE: 0.0244 - MSE: 0.0011 - val_loss: 0.0013 - val_MAE: 0.0272 - val_MSE: 0.0013\n",
      "Epoch 78/100\n",
      "422/422 [==============================] - 0s 1ms/step - loss: 0.0011 - MAE: 0.0245 - MSE: 0.0011 - val_loss: 0.0016 - val_MAE: 0.0289 - val_MSE: 0.0016\n",
      "Epoch 79/100\n",
      "422/422 [==============================] - 0s 1ms/step - loss: 0.0012 - MAE: 0.0246 - MSE: 0.0012 - val_loss: 0.0011 - val_MAE: 0.0244 - val_MSE: 0.0011\n",
      "Epoch 80/100\n",
      "422/422 [==============================] - 1s 1ms/step - loss: 0.0011 - MAE: 0.0239 - MSE: 0.0011 - val_loss: 0.0014 - val_MAE: 0.0279 - val_MSE: 0.0014\n",
      "Epoch 81/100\n",
      "422/422 [==============================] - 1s 1ms/step - loss: 0.0011 - MAE: 0.0242 - MSE: 0.0011 - val_loss: 0.0015 - val_MAE: 0.0292 - val_MSE: 0.0015\n",
      "Epoch 82/100\n",
      "422/422 [==============================] - 0s 1ms/step - loss: 0.0013 - MAE: 0.0256 - MSE: 0.0013 - val_loss: 0.0012 - val_MAE: 0.0254 - val_MSE: 0.0012\n",
      "Epoch 83/100\n",
      "422/422 [==============================] - 0s 1ms/step - loss: 0.0012 - MAE: 0.0252 - MSE: 0.0012 - val_loss: 0.0013 - val_MAE: 0.0269 - val_MSE: 0.0013\n",
      "Epoch 84/100\n",
      "422/422 [==============================] - 0s 1ms/step - loss: 0.0011 - MAE: 0.0238 - MSE: 0.0011 - val_loss: 0.0011 - val_MAE: 0.0245 - val_MSE: 0.0011\n",
      "Epoch 85/100\n",
      "422/422 [==============================] - 0s 1ms/step - loss: 0.0011 - MAE: 0.0244 - MSE: 0.0011 - val_loss: 0.0013 - val_MAE: 0.0274 - val_MSE: 0.0013\n",
      "Epoch 86/100\n",
      "422/422 [==============================] - 0s 1ms/step - loss: 0.0011 - MAE: 0.0242 - MSE: 0.0011 - val_loss: 9.9604e-04 - val_MAE: 0.0226 - val_MSE: 9.9604e-04\n",
      "Epoch 87/100\n",
      "422/422 [==============================] - 0s 1ms/step - loss: 0.0011 - MAE: 0.0245 - MSE: 0.0011 - val_loss: 0.0012 - val_MAE: 0.0243 - val_MSE: 0.0012\n",
      "Epoch 88/100\n",
      "422/422 [==============================] - 0s 1ms/step - loss: 0.0011 - MAE: 0.0244 - MSE: 0.0011 - val_loss: 0.0011 - val_MAE: 0.0240 - val_MSE: 0.0011\n",
      "Epoch 89/100\n",
      "422/422 [==============================] - 1s 1ms/step - loss: 0.0012 - MAE: 0.0247 - MSE: 0.0012 - val_loss: 0.0017 - val_MAE: 0.0303 - val_MSE: 0.0017\n",
      "Epoch 90/100\n",
      "422/422 [==============================] - 0s 1ms/step - loss: 0.0012 - MAE: 0.0247 - MSE: 0.0012 - val_loss: 0.0013 - val_MAE: 0.0264 - val_MSE: 0.0013\n",
      "Epoch 91/100\n",
      "422/422 [==============================] - 1s 1ms/step - loss: 0.0011 - MAE: 0.0243 - MSE: 0.0011 - val_loss: 0.0012 - val_MAE: 0.0260 - val_MSE: 0.0012\n",
      "Epoch 92/100\n",
      "422/422 [==============================] - 0s 1ms/step - loss: 0.0011 - MAE: 0.0239 - MSE: 0.0011 - val_loss: 0.0011 - val_MAE: 0.0247 - val_MSE: 0.0011\n",
      "Epoch 93/100\n",
      "422/422 [==============================] - 0s 1ms/step - loss: 0.0011 - MAE: 0.0242 - MSE: 0.0011 - val_loss: 0.0013 - val_MAE: 0.0276 - val_MSE: 0.0013\n",
      "Epoch 94/100\n",
      "422/422 [==============================] - 0s 1ms/step - loss: 0.0011 - MAE: 0.0240 - MSE: 0.0011 - val_loss: 0.0010 - val_MAE: 0.0234 - val_MSE: 0.0010\n",
      "Epoch 95/100\n",
      "422/422 [==============================] - 0s 1ms/step - loss: 0.0012 - MAE: 0.0246 - MSE: 0.0012 - val_loss: 0.0014 - val_MAE: 0.0283 - val_MSE: 0.0014\n",
      "Epoch 96/100\n",
      "422/422 [==============================] - 0s 1ms/step - loss: 0.0012 - MAE: 0.0246 - MSE: 0.0012 - val_loss: 0.0011 - val_MAE: 0.0237 - val_MSE: 0.0011\n",
      "Epoch 97/100\n",
      "422/422 [==============================] - 0s 1ms/step - loss: 0.0011 - MAE: 0.0242 - MSE: 0.0011 - val_loss: 0.0012 - val_MAE: 0.0257 - val_MSE: 0.0012\n",
      "Epoch 98/100\n",
      "422/422 [==============================] - 0s 1ms/step - loss: 0.0011 - MAE: 0.0241 - MSE: 0.0011 - val_loss: 0.0011 - val_MAE: 0.0232 - val_MSE: 0.0011\n",
      "Epoch 99/100\n"
     ]
    },
    {
     "name": "stdout",
     "output_type": "stream",
     "text": [
      "422/422 [==============================] - 0s 1ms/step - loss: 0.0011 - MAE: 0.0239 - MSE: 0.0011 - val_loss: 0.0012 - val_MAE: 0.0247 - val_MSE: 0.0012\n",
      "Epoch 100/100\n",
      "422/422 [==============================] - 0s 1ms/step - loss: 0.0012 - MAE: 0.0244 - MSE: 0.0012 - val_loss: 0.0012 - val_MAE: 0.0243 - val_MSE: 0.0012\n"
     ]
    }
   ],
   "source": [
    "# defining the keras model\n",
    "model = Sequential()\n",
    "model.add( Dense( units = 64 , activation = 'relu' , kernel_initializer = 'normal', input_dim = 10)) # input layer\n",
    "model.add( Dense( units = 32 , activation = 'tanh' , kernel_initializer = 'normal' )) # hidden layer\n",
    "model.add( Dense( units = 1  , kernel_initializer = 'normal')) # o/p layer\n",
    "\n",
    "# compiling the keras model\n",
    "model.compile(loss='mean_squared_error', optimizer='adam', metrics=['MAE','MSE'])\n",
    "# fitting the keras model on the dataset\n",
    "history = model.fit(X_train, y_train, epochs=100, validation_split=0.3, batch_size=20, verbose=1)"
   ]
  },
  {
   "cell_type": "code",
   "execution_count": 21,
   "id": "a89e15ee",
   "metadata": {
    "ExecuteTime": {
     "end_time": "2023-08-21T14:07:08.452565Z",
     "start_time": "2023-08-21T13:56:34.839501Z"
    },
    "scrolled": false
   },
   "outputs": [
    {
     "name": "stdout",
     "output_type": "stream",
     "text": [
      "94/94 [==============================] - 0s 630us/step\n",
      "batch_size: 5 - epochs: 5 Accuracy: T_E_Y    71.420657\n",
      "dtype: float64\n",
      "94/94 [==============================] - 0s 728us/step\n",
      "batch_size: 5 - epochs: 10 Accuracy: T_E_Y    54.916509\n",
      "dtype: float64\n",
      "94/94 [==============================] - 0s 783us/step\n",
      "batch_size: 5 - epochs: 50 Accuracy: T_E_Y    84.46008\n",
      "dtype: float64\n",
      "94/94 [==============================] - 0s 722us/step\n",
      "batch_size: 5 - epochs: 100 Accuracy: T_E_Y    46.803804\n",
      "dtype: float64\n",
      "94/94 [==============================] - 0s 744us/step\n",
      "batch_size: 10 - epochs: 5 Accuracy: T_E_Y    61.512748\n",
      "dtype: float64\n",
      "94/94 [==============================] - 0s 730us/step\n",
      "batch_size: 10 - epochs: 10 Accuracy: T_E_Y    60.974929\n",
      "dtype: float64\n",
      "94/94 [==============================] - 0s 754us/step\n",
      "batch_size: 10 - epochs: 50 Accuracy: T_E_Y    65.442455\n",
      "dtype: float64\n",
      "94/94 [==============================] - 0s 674us/step\n",
      "batch_size: 10 - epochs: 100 Accuracy: T_E_Y    54.898362\n",
      "dtype: float64\n",
      "94/94 [==============================] - 0s 725us/step\n",
      "batch_size: 15 - epochs: 5 Accuracy: T_E_Y    63.979152\n",
      "dtype: float64\n",
      "94/94 [==============================] - 0s 663us/step\n",
      "batch_size: 15 - epochs: 10 Accuracy: T_E_Y    72.812755\n",
      "dtype: float64\n",
      "94/94 [==============================] - 0s 736us/step\n",
      "batch_size: 15 - epochs: 50 Accuracy: T_E_Y    54.648244\n",
      "dtype: float64\n",
      "94/94 [==============================] - 0s 695us/step\n",
      "batch_size: 15 - epochs: 100 Accuracy: T_E_Y    67.429416\n",
      "dtype: float64\n",
      "94/94 [==============================] - 0s 836us/step\n",
      "batch_size: 20 - epochs: 5 Accuracy: T_E_Y    55.208367\n",
      "dtype: float64\n",
      "94/94 [==============================] - 0s 712us/step\n",
      "batch_size: 20 - epochs: 10 Accuracy: T_E_Y    72.368475\n",
      "dtype: float64\n",
      "94/94 [==============================] - 0s 666us/step\n",
      "batch_size: 20 - epochs: 50 Accuracy: T_E_Y    56.074122\n",
      "dtype: float64\n",
      "94/94 [==============================] - 0s 662us/step\n",
      "batch_size: 20 - epochs: 100 Accuracy: T_E_Y    61.938293\n",
      "dtype: float64\n"
     ]
    },
    {
     "data": {
      "text/html": [
       "<div>\n",
       "<style scoped>\n",
       "    .dataframe tbody tr th:only-of-type {\n",
       "        vertical-align: middle;\n",
       "    }\n",
       "\n",
       "    .dataframe tbody tr th {\n",
       "        vertical-align: top;\n",
       "    }\n",
       "\n",
       "    .dataframe thead th {\n",
       "        text-align: right;\n",
       "    }\n",
       "</style>\n",
       "<table border=\"1\" class=\"dataframe\">\n",
       "  <thead>\n",
       "    <tr style=\"text-align: right;\">\n",
       "      <th></th>\n",
       "      <th>batchsize</th>\n",
       "      <th>epochs</th>\n",
       "      <th>Accuracy</th>\n",
       "    </tr>\n",
       "  </thead>\n",
       "  <tbody>\n",
       "    <tr>\n",
       "      <th>0</th>\n",
       "      <td>5</td>\n",
       "      <td>5</td>\n",
       "      <td>T_E_Y    71.420657\n",
       "dtype: float64</td>\n",
       "    </tr>\n",
       "    <tr>\n",
       "      <th>0</th>\n",
       "      <td>5</td>\n",
       "      <td>10</td>\n",
       "      <td>T_E_Y    54.916509\n",
       "dtype: float64</td>\n",
       "    </tr>\n",
       "    <tr>\n",
       "      <th>0</th>\n",
       "      <td>5</td>\n",
       "      <td>50</td>\n",
       "      <td>T_E_Y    84.46008\n",
       "dtype: float64</td>\n",
       "    </tr>\n",
       "    <tr>\n",
       "      <th>0</th>\n",
       "      <td>5</td>\n",
       "      <td>100</td>\n",
       "      <td>T_E_Y    46.803804\n",
       "dtype: float64</td>\n",
       "    </tr>\n",
       "    <tr>\n",
       "      <th>0</th>\n",
       "      <td>10</td>\n",
       "      <td>5</td>\n",
       "      <td>T_E_Y    61.512748\n",
       "dtype: float64</td>\n",
       "    </tr>\n",
       "    <tr>\n",
       "      <th>0</th>\n",
       "      <td>10</td>\n",
       "      <td>10</td>\n",
       "      <td>T_E_Y    60.974929\n",
       "dtype: float64</td>\n",
       "    </tr>\n",
       "    <tr>\n",
       "      <th>0</th>\n",
       "      <td>10</td>\n",
       "      <td>50</td>\n",
       "      <td>T_E_Y    65.442455\n",
       "dtype: float64</td>\n",
       "    </tr>\n",
       "    <tr>\n",
       "      <th>0</th>\n",
       "      <td>10</td>\n",
       "      <td>100</td>\n",
       "      <td>T_E_Y    54.898362\n",
       "dtype: float64</td>\n",
       "    </tr>\n",
       "    <tr>\n",
       "      <th>0</th>\n",
       "      <td>15</td>\n",
       "      <td>5</td>\n",
       "      <td>T_E_Y    63.979152\n",
       "dtype: float64</td>\n",
       "    </tr>\n",
       "    <tr>\n",
       "      <th>0</th>\n",
       "      <td>15</td>\n",
       "      <td>10</td>\n",
       "      <td>T_E_Y    72.812755\n",
       "dtype: float64</td>\n",
       "    </tr>\n",
       "    <tr>\n",
       "      <th>0</th>\n",
       "      <td>15</td>\n",
       "      <td>50</td>\n",
       "      <td>T_E_Y    54.648244\n",
       "dtype: float64</td>\n",
       "    </tr>\n",
       "    <tr>\n",
       "      <th>0</th>\n",
       "      <td>15</td>\n",
       "      <td>100</td>\n",
       "      <td>T_E_Y    67.429416\n",
       "dtype: float64</td>\n",
       "    </tr>\n",
       "    <tr>\n",
       "      <th>0</th>\n",
       "      <td>20</td>\n",
       "      <td>5</td>\n",
       "      <td>T_E_Y    55.208367\n",
       "dtype: float64</td>\n",
       "    </tr>\n",
       "    <tr>\n",
       "      <th>0</th>\n",
       "      <td>20</td>\n",
       "      <td>10</td>\n",
       "      <td>T_E_Y    72.368475\n",
       "dtype: float64</td>\n",
       "    </tr>\n",
       "    <tr>\n",
       "      <th>0</th>\n",
       "      <td>20</td>\n",
       "      <td>50</td>\n",
       "      <td>T_E_Y    56.074122\n",
       "dtype: float64</td>\n",
       "    </tr>\n",
       "    <tr>\n",
       "      <th>0</th>\n",
       "      <td>20</td>\n",
       "      <td>100</td>\n",
       "      <td>T_E_Y    61.938293\n",
       "dtype: float64</td>\n",
       "    </tr>\n",
       "  </tbody>\n",
       "</table>\n",
       "</div>"
      ],
      "text/plain": [
       "   batchsize  epochs                           Accuracy\n",
       "0          5       5  T_E_Y    71.420657\n",
       "dtype: float64\n",
       "0          5      10  T_E_Y    54.916509\n",
       "dtype: float64\n",
       "0          5      50   T_E_Y    84.46008\n",
       "dtype: float64\n",
       "0          5     100  T_E_Y    46.803804\n",
       "dtype: float64\n",
       "0         10       5  T_E_Y    61.512748\n",
       "dtype: float64\n",
       "0         10      10  T_E_Y    60.974929\n",
       "dtype: float64\n",
       "0         10      50  T_E_Y    65.442455\n",
       "dtype: float64\n",
       "0         10     100  T_E_Y    54.898362\n",
       "dtype: float64\n",
       "0         15       5  T_E_Y    63.979152\n",
       "dtype: float64\n",
       "0         15      10  T_E_Y    72.812755\n",
       "dtype: float64\n",
       "0         15      50  T_E_Y    54.648244\n",
       "dtype: float64\n",
       "0         15     100  T_E_Y    67.429416\n",
       "dtype: float64\n",
       "0         20       5  T_E_Y    55.208367\n",
       "dtype: float64\n",
       "0         20      10  T_E_Y    72.368475\n",
       "dtype: float64\n",
       "0         20      50  T_E_Y    56.074122\n",
       "dtype: float64\n",
       "0         20     100  T_E_Y    61.938293\n",
       "dtype: float64"
      ]
     },
     "execution_count": 21,
     "metadata": {},
     "output_type": "execute_result"
    }
   ],
   "source": [
    "def BestParams(X_train, y_train, X_test, y_test):\n",
    "    #defining list of hyperparameters\n",
    "    batch_size_list = [5 , 10 , 15 , 20]\n",
    "    epoch_list      = [5 , 10 , 50 , 100]\n",
    "    bestParamTable = pd.DataFrame()\n",
    "    for batch_trial in batch_size_list:\n",
    "        for epochs_trial in epoch_list:\n",
    "            # create ANN model\n",
    "            model = Sequential()\n",
    "            model.add(Dense(units=64, input_dim=X_train.shape[1], kernel_initializer='normal', activation='relu'))\n",
    "            model.add(Dense(units=32, kernel_initializer='normal', activation='tanh'))\n",
    "            model.add(Dense(1, kernel_initializer='normal'))\n",
    "            \n",
    "            # Compiling the model\n",
    "            model.compile(optimizer ='adam', loss = 'mean_squared_error')\n",
    "            # Fitting the ANN to the Training set\n",
    "            model.fit(X_train, y_train , batch_size=batch_trial, epochs=epochs_trial,  verbose=0)\n",
    "            MAPE = np.mean(100 * (np.abs(y_test-model.predict(X_test))/y_test))\n",
    "            bestParamTable=bestParamTable.append(pd.DataFrame(data=[[batch_trial, epochs_trial, 100-MAPE]],\n",
    "                                                        columns=['batchsize','epochs','Accuracy'] ))\n",
    "            # printing the results of the current iteration\n",
    "            print('batch_size:', batch_trial,'-', 'epochs:',epochs_trial, 'Accuracy:',100-MAPE)\n",
    "    return bestParamTable\n",
    "\n",
    "# Calling the function\n",
    "finalParam = BestParams(X_train, y_train, X_test, y_test)\n",
    "finalParam"
   ]
  },
  {
   "cell_type": "code",
   "execution_count": 22,
   "id": "a7168d6c",
   "metadata": {
    "ExecuteTime": {
     "end_time": "2023-08-21T14:18:39.421208Z",
     "start_time": "2023-08-21T14:18:39.410136Z"
    }
   },
   "outputs": [
    {
     "data": {
      "text/plain": [
       "index         0.00000\n",
       "batchsize     5.00000\n",
       "epochs       50.00000\n",
       "Accuracy     84.46008\n",
       "Name: 2, dtype: float64"
      ]
     },
     "execution_count": 22,
     "metadata": {},
     "output_type": "execute_result"
    }
   ],
   "source": [
    "# getting corresponding row values of the maximum value of 'Accuracy' column\n",
    "finalParam = finalParam.reset_index()\n",
    "finalParam['Accuracy'] = finalParam['Accuracy'].apply(pd.to_numeric, errors='coerce')\n",
    "finalParam.iloc[finalParam['Accuracy'].idxmax()]"
   ]
  },
  {
   "cell_type": "markdown",
   "id": "5631302a",
   "metadata": {},
   "source": [
    "### Training the model with the best parameters"
   ]
  },
  {
   "cell_type": "code",
   "execution_count": 23,
   "id": "31b36909",
   "metadata": {
    "ExecuteTime": {
     "end_time": "2023-08-21T14:21:16.585687Z",
     "start_time": "2023-08-21T14:19:54.629293Z"
    }
   },
   "outputs": [
    {
     "data": {
      "text/plain": [
       "<keras.src.callbacks.History at 0x1b537996ca0>"
      ]
     },
     "execution_count": 23,
     "metadata": {},
     "output_type": "execute_result"
    }
   ],
   "source": [
    "model.compile(optimizer ='adam', loss = 'mean_squared_error', metrics=['MAE','MSE'])\n",
    "# fitting the model to best params\n",
    "model.fit(X_train,y_train, batch_size=5 , epochs = 50, verbose=0)"
   ]
  },
  {
   "cell_type": "markdown",
   "id": "b83ab286",
   "metadata": {},
   "source": [
    "### Model Evaluation Train and Test Error"
   ]
  },
  {
   "cell_type": "code",
   "execution_count": 24,
   "id": "b38810a7",
   "metadata": {
    "ExecuteTime": {
     "end_time": "2023-08-21T14:25:43.442422Z",
     "start_time": "2023-08-21T14:25:43.038498Z"
    }
   },
   "outputs": [
    {
     "name": "stdout",
     "output_type": "stream",
     "text": [
      "376/376 [==============================] - 0s 722us/step - loss: 0.0012 - MAE: 0.0257 - MSE: 0.0012\n",
      "MAE: 2.57%\n",
      "MSE: 0.12%\n"
     ]
    }
   ],
   "source": [
    "# to evaluate the keras model and get the accuracy \n",
    "scores = model.evaluate(X_train, y_train)\n",
    "print(\"%s: %.2f%%\" %(model.metrics_names[1], scores[1]*100))\n",
    "print(\"%s: %.2f%%\" %(model.metrics_names[2], scores[2]*100))"
   ]
  },
  {
   "cell_type": "code",
   "execution_count": 25,
   "id": "fa439e38",
   "metadata": {
    "ExecuteTime": {
     "end_time": "2023-08-21T14:26:31.400035Z",
     "start_time": "2023-08-21T14:26:31.238609Z"
    }
   },
   "outputs": [
    {
     "name": "stdout",
     "output_type": "stream",
     "text": [
      "dict_keys(['loss', 'MAE', 'MSE', 'val_loss', 'val_MAE', 'val_MSE'])\n"
     ]
    },
    {
     "data": {
      "image/png": "[encoded data removed]",
      "text/plain": [
       "<Figure size 576x216 with 1 Axes>"
      ]
     },
     "metadata": {
      "needs_background": "light"
     },
     "output_type": "display_data"
    },
    {
     "data": {
      "image/png": "[encoded data removed]",
      "text/plain": [
       "<Figure size 576x216 with 1 Axes>"
      ]
     },
     "metadata": {
      "needs_background": "light"
     },
     "output_type": "display_data"
    }
   ],
   "source": [
    "# Plotting \n",
    "#list all the data in history\n",
    "print(history.history.keys())\n",
    "#summarize history for accuracy\n",
    "plt.figure(figsize=(8,3))\n",
    "plt.plot(history.history['MAE'])\n",
    "plt.plot(history.history['MSE'])\n",
    "plt.title(\"Model's Mean Absolute and Squared Errors\")\n",
    "plt.xlabel('Epoch')\n",
    "plt.ylabel('Error')\n",
    "plt.legend(['Mean Absulote Error', 'Mean Squared Error'],loc = 'upper left')\n",
    "plt.show()\n",
    "\n",
    "#summarize history for loss\n",
    "plt.figure(figsize=(8,3))\n",
    "plt.plot(history.history['loss'])\n",
    "plt.plot(history.history['val_loss'])\n",
    "plt.title('Model-loss')\n",
    "plt.xlabel('Epoch')\n",
    "plt.ylabel('Mean-Absolute-Error')\n",
    "plt.legend(['Training Error', 'Testing Error'],loc='upper left')\n",
    "plt.show()"
   ]
  },
  {
   "cell_type": "markdown",
   "id": "2d16d9fb",
   "metadata": {},
   "source": [
    "## Predictions\n",
    "    Predicting the TEY(Turbine Energy Yield) using all the other features."
   ]
  },
  {
   "cell_type": "code",
   "execution_count": 26,
   "id": "7d1f6523",
   "metadata": {
    "ExecuteTime": {
     "end_time": "2023-08-21T14:26:37.378377Z",
     "start_time": "2023-08-21T14:26:37.237026Z"
    }
   },
   "outputs": [
    {
     "name": "stdout",
     "output_type": "stream",
     "text": [
      "94/94 [==============================] - 0s 568us/step\n",
      "(3008, 12)\n"
     ]
    },
    {
     "data": {
      "text/html": [
       "<div>\n",
       "<style scoped>\n",
       "    .dataframe tbody tr th:only-of-type {\n",
       "        vertical-align: middle;\n",
       "    }\n",
       "\n",
       "    .dataframe tbody tr th {\n",
       "        vertical-align: top;\n",
       "    }\n",
       "\n",
       "    .dataframe thead th {\n",
       "        text-align: right;\n",
       "    }\n",
       "</style>\n",
       "<table border=\"1\" class=\"dataframe\">\n",
       "  <thead>\n",
       "    <tr style=\"text-align: right;\">\n",
       "      <th></th>\n",
       "      <th>Actual TEY</th>\n",
       "      <th>Predicted TEY</th>\n",
       "    </tr>\n",
       "  </thead>\n",
       "  <tbody>\n",
       "    <tr>\n",
       "      <th>13312</th>\n",
       "      <td>0.017154</td>\n",
       "      <td>0.038646</td>\n",
       "    </tr>\n",
       "    <tr>\n",
       "      <th>12627</th>\n",
       "      <td>-1.409324</td>\n",
       "      <td>-1.421900</td>\n",
       "    </tr>\n",
       "    <tr>\n",
       "      <th>6393</th>\n",
       "      <td>-0.029595</td>\n",
       "      <td>-0.002819</td>\n",
       "    </tr>\n",
       "    <tr>\n",
       "      <th>4990</th>\n",
       "      <td>-0.025173</td>\n",
       "      <td>-0.013386</td>\n",
       "    </tr>\n",
       "    <tr>\n",
       "      <th>12462</th>\n",
       "      <td>-1.479448</td>\n",
       "      <td>-1.490777</td>\n",
       "    </tr>\n",
       "    <tr>\n",
       "      <th>7405</th>\n",
       "      <td>-1.318353</td>\n",
       "      <td>-1.280891</td>\n",
       "    </tr>\n",
       "    <tr>\n",
       "      <th>10993</th>\n",
       "      <td>-0.026436</td>\n",
       "      <td>-0.018978</td>\n",
       "    </tr>\n",
       "    <tr>\n",
       "      <th>9488</th>\n",
       "      <td>-0.329042</td>\n",
       "      <td>-0.340596</td>\n",
       "    </tr>\n",
       "    <tr>\n",
       "      <th>14201</th>\n",
       "      <td>1.593988</td>\n",
       "      <td>1.641546</td>\n",
       "    </tr>\n",
       "    <tr>\n",
       "      <th>9757</th>\n",
       "      <td>1.748133</td>\n",
       "      <td>1.778022</td>\n",
       "    </tr>\n",
       "  </tbody>\n",
       "</table>\n",
       "</div>"
      ],
      "text/plain": [
       "       Actual TEY  Predicted TEY\n",
       "13312    0.017154       0.038646\n",
       "12627   -1.409324      -1.421900\n",
       "6393    -0.029595      -0.002819\n",
       "4990    -0.025173      -0.013386\n",
       "12462   -1.479448      -1.490777\n",
       "7405    -1.318353      -1.280891\n",
       "10993   -0.026436      -0.018978\n",
       "9488    -0.329042      -0.340596\n",
       "14201    1.593988       1.641546\n",
       "9757     1.748133       1.778022"
      ]
     },
     "execution_count": 26,
     "metadata": {},
     "output_type": "execute_result"
    }
   ],
   "source": [
    "# generating predictions for test data\n",
    "y_predict = model.predict(X_test) \n",
    "\n",
    "# creating table with test price & predicted price for test\n",
    "predictions = pd.DataFrame(X_test)\n",
    "predictions['Actual TEY'] = y_test\n",
    "predictions['Predicted TEY'] = y_predict\n",
    "print(predictions.shape)\n",
    "predictions.drop(['AT','AP','AH','AFDP','GTEP','TIT','TAT','CDP','CO','NOX'],\n",
    "                                          axis =1 , inplace = True)\n",
    "predictions.head(10)"
   ]
  },
  {
   "cell_type": "markdown",
   "id": "cd4109e4",
   "metadata": {},
   "source": [
    "### Visualizing the Relationship between Actual and Predicted values of TEY"
   ]
  },
  {
   "cell_type": "code",
   "execution_count": 27,
   "id": "8960f5dd",
   "metadata": {
    "ExecuteTime": {
     "end_time": "2023-08-21T14:26:42.978743Z",
     "start_time": "2023-08-21T14:26:42.896385Z"
    }
   },
   "outputs": [
    {
     "data": {
      "image/png": "[encoded data removed]",
      "text/plain": [
       "<Figure size 432x288 with 1 Axes>"
      ]
     },
     "metadata": {
      "needs_background": "light"
     },
     "output_type": "display_data"
    }
   ],
   "source": [
    "plt.scatter(predictions['Actual TEY'], predictions['Predicted TEY'])\n",
    "plt.xlabel(\"Actual Values\")\n",
    "plt.ylabel(\"Predicted values\")\n",
    "plt.title(\"Relationship between Actual and Predicted values\")\n",
    "plt.show()"
   ]
  },
  {
   "cell_type": "markdown",
   "id": "e7c8907c",
   "metadata": {},
   "source": [
    "### Conclusion\n",
    "    Hence, the feature TEY (Turbine Energy Yield) has been predicted based on the other features."
   ]
  }
 ],
 "metadata": {
  "kernelspec": {
   "display_name": "Python 3 (ipykernel)",
   "language": "python",
   "name": "python3"
  },
  "language_info": {
   "codemirror_mode": {
    "name": "ipython",
    "version": 3
   },
   "file_extension": ".py",
   "mimetype": "text/x-python",
   "name": "python",
   "nbconvert_exporter": "python",
   "pygments_lexer": "ipython3",
   "version": "3.9.12"
  }
 },
 "nbformat": 4,
 "nbformat_minor": 5
}
